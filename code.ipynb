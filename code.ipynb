{
 "cells": [
  {
   "cell_type": "markdown",
   "id": "f903e144",
   "metadata": {},
   "source": [
    "# Starbucks Stores Analysis"
   ]
  },
  {
   "cell_type": "code",
   "execution_count": 92,
   "id": "f371ba99",
   "metadata": {},
   "outputs": [],
   "source": [
    "# Housekeeping\n",
    "import math\n",
    "import numpy as np\n",
    "import pandas as pd\n",
    "import matplotlib.pyplot as plt\n",
    "from scipy import stats\n",
    "from sklearn.model_selection import train_test_split, cross_validate\n",
    "from sklearn.preprocessing import PolynomialFeatures\n",
    "from sklearn.pipeline import make_pipeline\n",
    "from sklearn.linear_model import LinearRegression\n",
    "from sklearn.metrics import r2_score"
   ]
  },
  {
   "cell_type": "markdown",
   "id": "9226cd2c",
   "metadata": {},
   "source": [
    "## Datasets"
   ]
  },
  {
   "cell_type": "markdown",
   "id": "613f102a",
   "metadata": {},
   "source": [
    "Data Constraints:\n",
    "- Both Starbucks and US datasets published in 2017.\n",
    "- Starbucks store locations limited to US country. \n",
    "- Starbucks store limited to Starbucks brand (no Teavana)\n",
    "- Exclude Puerto Rico from US datasets"
   ]
  },
  {
   "cell_type": "code",
<<<<<<< HEAD
   "execution_count": 15,
=======
   "execution_count": 93,
>>>>>>> c85ca45b5e1d82e46d8a7d72a442375c4e71bf4c
   "id": "aafdeeb0",
   "metadata": {},
   "outputs": [],
   "source": [
    "starbucks = pd.read_csv('data/directory.csv')\n",
    "starbucks = starbucks.query(\"Brand == 'Starbucks'\").query(\"Country == 'US'\")\n",
    "starbucks = starbucks.drop(columns=[\"Brand\", \"Store Name\", \"Ownership Type\", \"Street Address\",\"Phone Number\",\"Timezone\", \"Postcode\", \"Country\"])\n",
    "starbucks = starbucks.rename(columns={'State/Province' : 'State'})"
   ]
  },
  {
   "cell_type": "code",
<<<<<<< HEAD
   "execution_count": 16,
=======
   "execution_count": 94,
>>>>>>> c85ca45b5e1d82e46d8a7d72a442375c4e71bf4c
   "id": "4d3d7776",
   "metadata": {},
   "outputs": [],
   "source": [
    "cities = pd.read_csv('data/uscities.csv')\n",
    "cities = cities[[\"city\", \"state_id\", \"state_name\", \"county_name\"]]"
   ]
  },
  {
   "cell_type": "code",
<<<<<<< HEAD
   "execution_count": 17,
=======
   "execution_count": 95,
>>>>>>> c85ca45b5e1d82e46d8a7d72a442375c4e71bf4c
   "id": "9b8caf60",
   "metadata": {},
   "outputs": [],
   "source": [
    "demographic = pd.read_csv('data/demo.csv', encoding='cp1252')\n",
    "demographic = demographic[demographic['State'] != 'Puerto Rico']\n",
    "demographic[\"County\"] = demographic[\"County\"].apply(lambda x: ' '.join(x.split()[0:-1]))"
   ]
  },
  {
   "cell_type": "markdown",
   "id": "04846a27",
   "metadata": {},
   "source": [
    "### Data Clean Up"
   ]
  },
  {
   "cell_type": "code",
<<<<<<< HEAD
   "execution_count": 18,
   "id": "2ac869ca",
   "metadata": {},
   "outputs": [
    {
     "data": {
      "text/html": [
       "<div>\n",
       "<style scoped>\n",
       "    .dataframe tbody tr th:only-of-type {\n",
       "        vertical-align: middle;\n",
       "    }\n",
       "\n",
       "    .dataframe tbody tr th {\n",
       "        vertical-align: top;\n",
       "    }\n",
       "\n",
       "    .dataframe thead th {\n",
       "        text-align: right;\n",
       "    }\n",
       "</style>\n",
       "<table border=\"1\" class=\"dataframe\">\n",
       "  <thead>\n",
       "    <tr style=\"text-align: right;\">\n",
       "      <th></th>\n",
       "      <th>Store Number</th>\n",
       "      <th>City</th>\n",
       "      <th>Longitude</th>\n",
       "      <th>Latitude</th>\n",
       "      <th>State</th>\n",
       "      <th>County</th>\n",
       "    </tr>\n",
       "  </thead>\n",
       "  <tbody>\n",
       "    <tr>\n",
       "      <th>0</th>\n",
       "      <td>3513-125945</td>\n",
       "      <td>Anchorage</td>\n",
       "      <td>-149.78</td>\n",
       "      <td>61.21</td>\n",
       "      <td>Alaska</td>\n",
       "      <td>Anchorage</td>\n",
       "    </tr>\n",
       "    <tr>\n",
       "      <th>1</th>\n",
       "      <td>74352-84449</td>\n",
       "      <td>Anchorage</td>\n",
       "      <td>-149.84</td>\n",
       "      <td>61.14</td>\n",
       "      <td>Alaska</td>\n",
       "      <td>Anchorage</td>\n",
       "    </tr>\n",
       "    <tr>\n",
       "      <th>2</th>\n",
       "      <td>12449-152385</td>\n",
       "      <td>Anchorage</td>\n",
       "      <td>-149.85</td>\n",
       "      <td>61.11</td>\n",
       "      <td>Alaska</td>\n",
       "      <td>Anchorage</td>\n",
       "    </tr>\n",
       "    <tr>\n",
       "      <th>3</th>\n",
       "      <td>24936-233524</td>\n",
       "      <td>Anchorage</td>\n",
       "      <td>-149.89</td>\n",
       "      <td>61.13</td>\n",
       "      <td>Alaska</td>\n",
       "      <td>Anchorage</td>\n",
       "    </tr>\n",
       "    <tr>\n",
       "      <th>4</th>\n",
       "      <td>8973-85630</td>\n",
       "      <td>Anchorage</td>\n",
       "      <td>-149.86</td>\n",
       "      <td>61.14</td>\n",
       "      <td>Alaska</td>\n",
       "      <td>Anchorage</td>\n",
       "    </tr>\n",
       "    <tr>\n",
       "      <th>...</th>\n",
       "      <td>...</td>\n",
       "      <td>...</td>\n",
       "      <td>...</td>\n",
       "      <td>...</td>\n",
       "      <td>...</td>\n",
       "      <td>...</td>\n",
       "    </tr>\n",
       "    <tr>\n",
       "      <th>12119</th>\n",
       "      <td>22353-220004</td>\n",
       "      <td>Lander</td>\n",
       "      <td>-108.75</td>\n",
       "      <td>42.84</td>\n",
       "      <td>Wyoming</td>\n",
       "      <td>Fremont</td>\n",
       "    </tr>\n",
       "    <tr>\n",
       "      <th>12120</th>\n",
       "      <td>74385-87621</td>\n",
       "      <td>Laramie</td>\n",
       "      <td>-105.59</td>\n",
       "      <td>41.32</td>\n",
       "      <td>Wyoming</td>\n",
       "      <td>Albany</td>\n",
       "    </tr>\n",
       "    <tr>\n",
       "      <th>12121</th>\n",
       "      <td>73320-24375</td>\n",
       "      <td>Laramie</td>\n",
       "      <td>-105.56</td>\n",
       "      <td>41.31</td>\n",
       "      <td>Wyoming</td>\n",
       "      <td>Albany</td>\n",
       "    </tr>\n",
       "    <tr>\n",
       "      <th>12122</th>\n",
       "      <td>22425-219024</td>\n",
       "      <td>Laramie</td>\n",
       "      <td>-105.56</td>\n",
       "      <td>41.31</td>\n",
       "      <td>Wyoming</td>\n",
       "      <td>Albany</td>\n",
       "    </tr>\n",
       "    <tr>\n",
       "      <th>12123</th>\n",
       "      <td>10849-103163</td>\n",
       "      <td>Rock Springs</td>\n",
       "      <td>-109.25</td>\n",
       "      <td>41.58</td>\n",
       "      <td>Wyoming</td>\n",
       "      <td>Sweetwater</td>\n",
       "    </tr>\n",
       "  </tbody>\n",
       "</table>\n",
       "<p>12124 rows × 6 columns</p>\n",
       "</div>"
      ],
      "text/plain": [
       "       Store Number          City  Longitude  Latitude    State      County\n",
       "0       3513-125945     Anchorage    -149.78     61.21   Alaska   Anchorage\n",
       "1       74352-84449     Anchorage    -149.84     61.14   Alaska   Anchorage\n",
       "2      12449-152385     Anchorage    -149.85     61.11   Alaska   Anchorage\n",
       "3      24936-233524     Anchorage    -149.89     61.13   Alaska   Anchorage\n",
       "4        8973-85630     Anchorage    -149.86     61.14   Alaska   Anchorage\n",
       "...             ...           ...        ...       ...      ...         ...\n",
       "12119  22353-220004        Lander    -108.75     42.84  Wyoming     Fremont\n",
       "12120   74385-87621       Laramie    -105.59     41.32  Wyoming      Albany\n",
       "12121   73320-24375       Laramie    -105.56     41.31  Wyoming      Albany\n",
       "12122  22425-219024       Laramie    -105.56     41.31  Wyoming      Albany\n",
       "12123  10849-103163  Rock Springs    -109.25     41.58  Wyoming  Sweetwater\n",
       "\n",
       "[12124 rows x 6 columns]"
      ]
     },
     "execution_count": 18,
     "metadata": {},
     "output_type": "execute_result"
    }
   ],
=======
   "execution_count": 96,
   "id": "2ac869ca",
   "metadata": {},
   "outputs": [],
>>>>>>> c85ca45b5e1d82e46d8a7d72a442375c4e71bf4c
   "source": [
    "mapping = pd.merge(starbucks, cities, left_on=[\"City\", \"State\"], right_on=[\"city\", \"state_id\"])\n",
    "mapping = mapping.drop(columns=[\"state_id\", \"city\", \"State\"])\n",
    "mapping = mapping.rename(columns={\"state_name\":\"State\", \"county_name\":\"County\"})"
   ]
  },
  {
   "cell_type": "code",
<<<<<<< HEAD
   "execution_count": 19,
   "id": "695c1885",
   "metadata": {},
   "outputs": [
    {
     "data": {
      "text/html": [
       "<div>\n",
       "<style scoped>\n",
       "    .dataframe tbody tr th:only-of-type {\n",
       "        vertical-align: middle;\n",
       "    }\n",
       "\n",
       "    .dataframe tbody tr th {\n",
       "        vertical-align: top;\n",
       "    }\n",
       "\n",
       "    .dataframe thead th {\n",
       "        text-align: right;\n",
       "    }\n",
       "</style>\n",
       "<table border=\"1\" class=\"dataframe\">\n",
       "  <thead>\n",
       "    <tr style=\"text-align: right;\">\n",
       "      <th></th>\n",
       "      <th>County</th>\n",
       "      <th>State</th>\n",
       "      <th>Count</th>\n",
       "    </tr>\n",
       "  </thead>\n",
       "  <tbody>\n",
       "    <tr>\n",
       "      <th>0</th>\n",
       "      <td>Ada</td>\n",
       "      <td>Idaho</td>\n",
       "      <td>32</td>\n",
       "    </tr>\n",
       "    <tr>\n",
       "      <th>1</th>\n",
       "      <td>Adair</td>\n",
       "      <td>Missouri</td>\n",
       "      <td>1</td>\n",
       "    </tr>\n",
       "    <tr>\n",
       "      <th>2</th>\n",
       "      <td>Adams</td>\n",
       "      <td>Colorado</td>\n",
       "      <td>62</td>\n",
       "    </tr>\n",
       "    <tr>\n",
       "      <th>3</th>\n",
       "      <td>Adams</td>\n",
       "      <td>Illinois</td>\n",
       "      <td>2</td>\n",
       "    </tr>\n",
       "    <tr>\n",
       "      <th>4</th>\n",
       "      <td>Adams</td>\n",
       "      <td>Pennsylvania</td>\n",
       "      <td>1</td>\n",
       "    </tr>\n",
       "    <tr>\n",
       "      <th>...</th>\n",
       "      <td>...</td>\n",
       "      <td>...</td>\n",
       "      <td>...</td>\n",
       "    </tr>\n",
       "    <tr>\n",
       "      <th>1026</th>\n",
       "      <td>York</td>\n",
       "      <td>Pennsylvania</td>\n",
       "      <td>10</td>\n",
       "    </tr>\n",
       "    <tr>\n",
       "      <th>1027</th>\n",
       "      <td>York</td>\n",
       "      <td>South Carolina</td>\n",
       "      <td>8</td>\n",
       "    </tr>\n",
       "    <tr>\n",
       "      <th>1028</th>\n",
       "      <td>York</td>\n",
       "      <td>Virginia</td>\n",
       "      <td>2</td>\n",
       "    </tr>\n",
       "    <tr>\n",
       "      <th>1029</th>\n",
       "      <td>Yuba</td>\n",
       "      <td>California</td>\n",
       "      <td>1</td>\n",
       "    </tr>\n",
       "    <tr>\n",
       "      <th>1030</th>\n",
       "      <td>Yuma</td>\n",
       "      <td>Arizona</td>\n",
       "      <td>8</td>\n",
       "    </tr>\n",
       "  </tbody>\n",
       "</table>\n",
       "<p>1031 rows × 3 columns</p>\n",
       "</div>"
      ],
      "text/plain": [
       "     County           State  Count\n",
       "0       Ada           Idaho     32\n",
       "1     Adair        Missouri      1\n",
       "2     Adams        Colorado     62\n",
       "3     Adams        Illinois      2\n",
       "4     Adams    Pennsylvania      1\n",
       "...     ...             ...    ...\n",
       "1026   York    Pennsylvania     10\n",
       "1027   York  South Carolina      8\n",
       "1028   York        Virginia      2\n",
       "1029   Yuba      California      1\n",
       "1030   Yuma         Arizona      8\n",
       "\n",
       "[1031 rows x 3 columns]"
      ]
     },
     "execution_count": 19,
     "metadata": {},
     "output_type": "execute_result"
    }
   ],
=======
   "execution_count": 97,
   "id": "695c1885",
   "metadata": {},
   "outputs": [],
>>>>>>> c85ca45b5e1d82e46d8a7d72a442375c4e71bf4c
   "source": [
    "storecount = mapping.groupby(['County', 'State'])['Store Number'].count().to_frame().reset_index()\n",
    "storecount = storecount.rename(columns={\"Store Number\":\"Count\"})"
   ]
  },
  {
   "cell_type": "code",
<<<<<<< HEAD
   "execution_count": 20,
   "id": "bf696fe5",
   "metadata": {},
   "outputs": [
    {
     "data": {
      "text/html": [
       "<div>\n",
       "<style scoped>\n",
       "    .dataframe tbody tr th:only-of-type {\n",
       "        vertical-align: middle;\n",
       "    }\n",
       "\n",
       "    .dataframe tbody tr th {\n",
       "        vertical-align: top;\n",
       "    }\n",
       "\n",
       "    .dataframe thead th {\n",
       "        text-align: right;\n",
       "    }\n",
       "</style>\n",
       "<table border=\"1\" class=\"dataframe\">\n",
       "  <thead>\n",
       "    <tr style=\"text-align: right;\">\n",
       "      <th></th>\n",
       "      <th>County</th>\n",
       "      <th>State</th>\n",
       "      <th>Count</th>\n",
       "      <th>TotalPop</th>\n",
       "      <th>Men</th>\n",
       "      <th>Women</th>\n",
       "      <th>Hispanic</th>\n",
       "      <th>White</th>\n",
       "      <th>Black</th>\n",
       "      <th>Native</th>\n",
       "      <th>...</th>\n",
       "      <th>Walk</th>\n",
       "      <th>OtherTransp</th>\n",
       "      <th>WorkAtHome</th>\n",
       "      <th>MeanCommute</th>\n",
       "      <th>Employed</th>\n",
       "      <th>PrivateWork</th>\n",
       "      <th>PublicWork</th>\n",
       "      <th>SelfEmployed</th>\n",
       "      <th>FamilyWork</th>\n",
       "      <th>Unemployment</th>\n",
       "    </tr>\n",
       "  </thead>\n",
       "  <tbody>\n",
       "    <tr>\n",
       "      <th>0</th>\n",
       "      <td>Autauga</td>\n",
       "      <td>Alabama</td>\n",
       "      <td>2.0</td>\n",
       "      <td>55036</td>\n",
       "      <td>48.875282</td>\n",
       "      <td>51.124718</td>\n",
       "      <td>2.7</td>\n",
       "      <td>75.4</td>\n",
       "      <td>18.9</td>\n",
       "      <td>0.3</td>\n",
       "      <td>...</td>\n",
       "      <td>0.6</td>\n",
       "      <td>1.3</td>\n",
       "      <td>2.5</td>\n",
       "      <td>25.8</td>\n",
       "      <td>43.811323</td>\n",
       "      <td>74.1</td>\n",
       "      <td>20.2</td>\n",
       "      <td>5.6</td>\n",
       "      <td>0.1</td>\n",
       "      <td>5.2</td>\n",
       "    </tr>\n",
       "    <tr>\n",
       "      <th>1</th>\n",
       "      <td>Baldwin</td>\n",
       "      <td>Alabama</td>\n",
       "      <td>5.0</td>\n",
       "      <td>203360</td>\n",
       "      <td>48.941286</td>\n",
       "      <td>51.058714</td>\n",
       "      <td>4.4</td>\n",
       "      <td>83.1</td>\n",
       "      <td>9.5</td>\n",
       "      <td>0.8</td>\n",
       "      <td>...</td>\n",
       "      <td>0.8</td>\n",
       "      <td>1.1</td>\n",
       "      <td>5.6</td>\n",
       "      <td>27.0</td>\n",
       "      <td>44.023899</td>\n",
       "      <td>80.7</td>\n",
       "      <td>12.9</td>\n",
       "      <td>6.3</td>\n",
       "      <td>0.1</td>\n",
       "      <td>5.5</td>\n",
       "    </tr>\n",
       "    <tr>\n",
       "      <th>2</th>\n",
       "      <td>Barbour</td>\n",
       "      <td>Alabama</td>\n",
       "      <td>0.0</td>\n",
       "      <td>26201</td>\n",
       "      <td>53.341476</td>\n",
       "      <td>46.658524</td>\n",
       "      <td>4.2</td>\n",
       "      <td>45.7</td>\n",
       "      <td>47.8</td>\n",
       "      <td>0.2</td>\n",
       "      <td>...</td>\n",
       "      <td>2.2</td>\n",
       "      <td>1.7</td>\n",
       "      <td>1.3</td>\n",
       "      <td>23.4</td>\n",
       "      <td>33.884203</td>\n",
       "      <td>74.1</td>\n",
       "      <td>19.1</td>\n",
       "      <td>6.5</td>\n",
       "      <td>0.3</td>\n",
       "      <td>12.4</td>\n",
       "    </tr>\n",
       "    <tr>\n",
       "      <th>3</th>\n",
       "      <td>Bibb</td>\n",
       "      <td>Alabama</td>\n",
       "      <td>0.0</td>\n",
       "      <td>22580</td>\n",
       "      <td>54.255979</td>\n",
       "      <td>45.744021</td>\n",
       "      <td>2.4</td>\n",
       "      <td>74.6</td>\n",
       "      <td>22.0</td>\n",
       "      <td>0.4</td>\n",
       "      <td>...</td>\n",
       "      <td>0.3</td>\n",
       "      <td>1.7</td>\n",
       "      <td>1.5</td>\n",
       "      <td>30.0</td>\n",
       "      <td>36.186891</td>\n",
       "      <td>76.0</td>\n",
       "      <td>17.4</td>\n",
       "      <td>6.3</td>\n",
       "      <td>0.3</td>\n",
       "      <td>8.2</td>\n",
       "    </tr>\n",
       "    <tr>\n",
       "      <th>4</th>\n",
       "      <td>Blount</td>\n",
       "      <td>Alabama</td>\n",
       "      <td>0.0</td>\n",
       "      <td>57667</td>\n",
       "      <td>49.404339</td>\n",
       "      <td>50.595661</td>\n",
       "      <td>9.0</td>\n",
       "      <td>87.4</td>\n",
       "      <td>1.5</td>\n",
       "      <td>0.3</td>\n",
       "      <td>...</td>\n",
       "      <td>0.4</td>\n",
       "      <td>0.4</td>\n",
       "      <td>2.1</td>\n",
       "      <td>35.0</td>\n",
       "      <td>37.074930</td>\n",
       "      <td>83.9</td>\n",
       "      <td>11.9</td>\n",
       "      <td>4.0</td>\n",
       "      <td>0.1</td>\n",
       "      <td>4.9</td>\n",
       "    </tr>\n",
       "    <tr>\n",
       "      <th>...</th>\n",
       "      <td>...</td>\n",
       "      <td>...</td>\n",
       "      <td>...</td>\n",
       "      <td>...</td>\n",
       "      <td>...</td>\n",
       "      <td>...</td>\n",
       "      <td>...</td>\n",
       "      <td>...</td>\n",
       "      <td>...</td>\n",
       "      <td>...</td>\n",
       "      <td>...</td>\n",
       "      <td>...</td>\n",
       "      <td>...</td>\n",
       "      <td>...</td>\n",
       "      <td>...</td>\n",
       "      <td>...</td>\n",
       "      <td>...</td>\n",
       "      <td>...</td>\n",
       "      <td>...</td>\n",
       "      <td>...</td>\n",
       "      <td>...</td>\n",
       "    </tr>\n",
       "    <tr>\n",
       "      <th>3137</th>\n",
       "      <td>Sweetwater</td>\n",
       "      <td>Wyoming</td>\n",
       "      <td>1.0</td>\n",
       "      <td>44527</td>\n",
       "      <td>51.611382</td>\n",
       "      <td>48.388618</td>\n",
       "      <td>16.0</td>\n",
       "      <td>79.6</td>\n",
       "      <td>0.8</td>\n",
       "      <td>0.6</td>\n",
       "      <td>...</td>\n",
       "      <td>2.8</td>\n",
       "      <td>1.3</td>\n",
       "      <td>1.5</td>\n",
       "      <td>20.5</td>\n",
       "      <td>51.067891</td>\n",
       "      <td>78.4</td>\n",
       "      <td>17.8</td>\n",
       "      <td>3.8</td>\n",
       "      <td>0.0</td>\n",
       "      <td>5.2</td>\n",
       "    </tr>\n",
       "    <tr>\n",
       "      <th>3138</th>\n",
       "      <td>Teton</td>\n",
       "      <td>Wyoming</td>\n",
       "      <td>2.0</td>\n",
       "      <td>22923</td>\n",
       "      <td>53.086420</td>\n",
       "      <td>46.913580</td>\n",
       "      <td>15.0</td>\n",
       "      <td>81.5</td>\n",
       "      <td>0.5</td>\n",
       "      <td>0.3</td>\n",
       "      <td>...</td>\n",
       "      <td>11.7</td>\n",
       "      <td>3.8</td>\n",
       "      <td>5.7</td>\n",
       "      <td>14.3</td>\n",
       "      <td>63.220346</td>\n",
       "      <td>82.1</td>\n",
       "      <td>11.4</td>\n",
       "      <td>6.5</td>\n",
       "      <td>0.0</td>\n",
       "      <td>1.3</td>\n",
       "    </tr>\n",
       "    <tr>\n",
       "      <th>3139</th>\n",
       "      <td>Uinta</td>\n",
       "      <td>Wyoming</td>\n",
       "      <td>0.0</td>\n",
       "      <td>20758</td>\n",
       "      <td>51.030928</td>\n",
       "      <td>48.969072</td>\n",
       "      <td>9.1</td>\n",
       "      <td>87.7</td>\n",
       "      <td>0.1</td>\n",
       "      <td>0.9</td>\n",
       "      <td>...</td>\n",
       "      <td>1.1</td>\n",
       "      <td>1.3</td>\n",
       "      <td>2.0</td>\n",
       "      <td>19.9</td>\n",
       "      <td>45.900376</td>\n",
       "      <td>71.5</td>\n",
       "      <td>21.5</td>\n",
       "      <td>6.6</td>\n",
       "      <td>0.4</td>\n",
       "      <td>6.4</td>\n",
       "    </tr>\n",
       "    <tr>\n",
       "      <th>3140</th>\n",
       "      <td>Washakie</td>\n",
       "      <td>Wyoming</td>\n",
       "      <td>0.0</td>\n",
       "      <td>8253</td>\n",
       "      <td>49.897007</td>\n",
       "      <td>50.102993</td>\n",
       "      <td>14.2</td>\n",
       "      <td>82.2</td>\n",
       "      <td>0.3</td>\n",
       "      <td>0.4</td>\n",
       "      <td>...</td>\n",
       "      <td>6.9</td>\n",
       "      <td>1.3</td>\n",
       "      <td>4.4</td>\n",
       "      <td>14.3</td>\n",
       "      <td>46.443717</td>\n",
       "      <td>69.8</td>\n",
       "      <td>22.0</td>\n",
       "      <td>8.1</td>\n",
       "      <td>0.2</td>\n",
       "      <td>6.1</td>\n",
       "    </tr>\n",
       "    <tr>\n",
       "      <th>3141</th>\n",
       "      <td>Weston</td>\n",
       "      <td>Wyoming</td>\n",
       "      <td>0.0</td>\n",
       "      <td>7117</td>\n",
       "      <td>52.775046</td>\n",
       "      <td>47.224954</td>\n",
       "      <td>1.4</td>\n",
       "      <td>91.6</td>\n",
       "      <td>0.5</td>\n",
       "      <td>0.1</td>\n",
       "      <td>...</td>\n",
       "      <td>3.0</td>\n",
       "      <td>1.6</td>\n",
       "      <td>6.9</td>\n",
       "      <td>25.7</td>\n",
       "      <td>47.871294</td>\n",
       "      <td>68.2</td>\n",
       "      <td>21.9</td>\n",
       "      <td>8.8</td>\n",
       "      <td>1.1</td>\n",
       "      <td>2.2</td>\n",
       "    </tr>\n",
       "  </tbody>\n",
       "</table>\n",
       "<p>3142 rows × 36 columns</p>\n",
       "</div>"
      ],
      "text/plain": [
       "          County    State  Count  TotalPop        Men      Women  Hispanic  \\\n",
       "0        Autauga  Alabama    2.0     55036  48.875282  51.124718       2.7   \n",
       "1        Baldwin  Alabama    5.0    203360  48.941286  51.058714       4.4   \n",
       "2        Barbour  Alabama    0.0     26201  53.341476  46.658524       4.2   \n",
       "3           Bibb  Alabama    0.0     22580  54.255979  45.744021       2.4   \n",
       "4         Blount  Alabama    0.0     57667  49.404339  50.595661       9.0   \n",
       "...          ...      ...    ...       ...        ...        ...       ...   \n",
       "3137  Sweetwater  Wyoming    1.0     44527  51.611382  48.388618      16.0   \n",
       "3138       Teton  Wyoming    2.0     22923  53.086420  46.913580      15.0   \n",
       "3139       Uinta  Wyoming    0.0     20758  51.030928  48.969072       9.1   \n",
       "3140    Washakie  Wyoming    0.0      8253  49.897007  50.102993      14.2   \n",
       "3141      Weston  Wyoming    0.0      7117  52.775046  47.224954       1.4   \n",
       "\n",
       "      White  Black  Native  ...  Walk  OtherTransp  WorkAtHome  MeanCommute  \\\n",
       "0      75.4   18.9     0.3  ...   0.6          1.3         2.5         25.8   \n",
       "1      83.1    9.5     0.8  ...   0.8          1.1         5.6         27.0   \n",
       "2      45.7   47.8     0.2  ...   2.2          1.7         1.3         23.4   \n",
       "3      74.6   22.0     0.4  ...   0.3          1.7         1.5         30.0   \n",
       "4      87.4    1.5     0.3  ...   0.4          0.4         2.1         35.0   \n",
       "...     ...    ...     ...  ...   ...          ...         ...          ...   \n",
       "3137   79.6    0.8     0.6  ...   2.8          1.3         1.5         20.5   \n",
       "3138   81.5    0.5     0.3  ...  11.7          3.8         5.7         14.3   \n",
       "3139   87.7    0.1     0.9  ...   1.1          1.3         2.0         19.9   \n",
       "3140   82.2    0.3     0.4  ...   6.9          1.3         4.4         14.3   \n",
       "3141   91.6    0.5     0.1  ...   3.0          1.6         6.9         25.7   \n",
       "\n",
       "       Employed  PrivateWork  PublicWork  SelfEmployed  FamilyWork  \\\n",
       "0     43.811323         74.1        20.2           5.6         0.1   \n",
       "1     44.023899         80.7        12.9           6.3         0.1   \n",
       "2     33.884203         74.1        19.1           6.5         0.3   \n",
       "3     36.186891         76.0        17.4           6.3         0.3   \n",
       "4     37.074930         83.9        11.9           4.0         0.1   \n",
       "...         ...          ...         ...           ...         ...   \n",
       "3137  51.067891         78.4        17.8           3.8         0.0   \n",
       "3138  63.220346         82.1        11.4           6.5         0.0   \n",
       "3139  45.900376         71.5        21.5           6.6         0.4   \n",
       "3140  46.443717         69.8        22.0           8.1         0.2   \n",
       "3141  47.871294         68.2        21.9           8.8         1.1   \n",
       "\n",
       "      Unemployment  \n",
       "0              5.2  \n",
       "1              5.5  \n",
       "2             12.4  \n",
       "3              8.2  \n",
       "4              4.9  \n",
       "...            ...  \n",
       "3137           5.2  \n",
       "3138           1.3  \n",
       "3139           6.4  \n",
       "3140           6.1  \n",
       "3141           2.2  \n",
       "\n",
       "[3142 rows x 36 columns]"
      ]
     },
     "execution_count": 20,
     "metadata": {},
     "output_type": "execute_result"
    }
   ],
=======
   "execution_count": 98,
   "id": "bf696fe5",
   "metadata": {},
   "outputs": [],
>>>>>>> c85ca45b5e1d82e46d8a7d72a442375c4e71bf4c
   "source": [
    "df = storecount.merge(demographic, how='right', left_on=['County', 'State'], right_on=['County', 'State']).drop(columns=[\"Unnamed: 0\", \"CountyId\", \"VotingAgeCitizen\"])\n",
    "df['Count'] = df['Count'].fillna(0)\n",
    "df['Men'] = (df['Men']/df['TotalPop'])*100\n",
    "df['Women'] = (df['Women']/df['TotalPop'])*100\n",
    "df['Employed'] = (df['Employed']/df['TotalPop'])*100"
   ]
  },
  {
   "cell_type": "markdown",
   "id": "6e82cba0",
   "metadata": {},
   "source": [
    "### Correlation"
   ]
  },
  {
   "cell_type": "code",
<<<<<<< HEAD
   "execution_count": 21,
=======
   "execution_count": 99,
>>>>>>> c85ca45b5e1d82e46d8a7d72a442375c4e71bf4c
   "id": "c5956886",
   "metadata": {
    "scrolled": true
   },
   "outputs": [
    {
<<<<<<< HEAD
     "data": {
      "text/html": [
       "<div>\n",
       "<style scoped>\n",
       "    .dataframe tbody tr th:only-of-type {\n",
       "        vertical-align: middle;\n",
       "    }\n",
       "\n",
       "    .dataframe tbody tr th {\n",
       "        vertical-align: top;\n",
       "    }\n",
       "\n",
       "    .dataframe thead th {\n",
       "        text-align: right;\n",
       "    }\n",
       "</style>\n",
       "<table border=\"1\" class=\"dataframe\">\n",
       "  <thead>\n",
       "    <tr style=\"text-align: right;\">\n",
       "      <th></th>\n",
       "      <th>Count</th>\n",
       "    </tr>\n",
       "  </thead>\n",
       "  <tbody>\n",
       "    <tr>\n",
       "      <th>TotalPop</th>\n",
       "      <td>0.896795</td>\n",
       "    </tr>\n",
       "    <tr>\n",
       "      <th>White</th>\n",
       "      <td>-0.202117</td>\n",
       "    </tr>\n",
       "    <tr>\n",
       "      <th>Asian</th>\n",
       "      <td>0.450766</td>\n",
       "    </tr>\n",
       "    <tr>\n",
       "      <th>Income</th>\n",
       "      <td>0.233709</td>\n",
       "    </tr>\n",
       "    <tr>\n",
       "      <th>IncomePerCap</th>\n",
       "      <td>0.256303</td>\n",
       "    </tr>\n",
       "    <tr>\n",
       "      <th>Professional</th>\n",
       "      <td>0.247451</td>\n",
       "    </tr>\n",
       "    <tr>\n",
       "      <th>Construction</th>\n",
       "      <td>-0.212778</td>\n",
       "    </tr>\n",
       "    <tr>\n",
       "      <th>Transit</th>\n",
       "      <td>0.327334</td>\n",
       "    </tr>\n",
       "  </tbody>\n",
       "</table>\n",
       "</div>"
      ],
      "text/plain": [
       "                 Count\n",
       "TotalPop      0.896795\n",
       "White        -0.202117\n",
       "Asian         0.450766\n",
       "Income        0.233709\n",
       "IncomePerCap  0.256303\n",
       "Professional  0.247451\n",
       "Construction -0.212778\n",
       "Transit       0.327334"
      ]
     },
     "execution_count": 21,
     "metadata": {},
     "output_type": "execute_result"
=======
     "name": "stdout",
     "output_type": "stream",
     "text": [
      "                 Count\n",
      "TotalPop      0.896795\n",
      "White        -0.202117\n",
      "Asian         0.450766\n",
      "Income        0.233709\n",
      "IncomePerCap  0.256303\n",
      "Professional  0.247451\n",
      "Construction -0.212778\n",
      "Transit       0.327334\n"
     ]
>>>>>>> c85ca45b5e1d82e46d8a7d72a442375c4e71bf4c
    }
   ],
   "source": [
    "var = ['Count', 'TotalPop', 'Men', 'Women', 'Hispanic',\n",
    "       'White', 'Black', 'Native', 'Asian', 'Pacific', 'Income', 'IncomeErr',\n",
    "       'IncomePerCap', 'IncomePerCapErr', 'Poverty', 'ChildPoverty',\n",
    "       'Professional', 'Service', 'Office', 'Construction', 'Production',\n",
    "       'Drive', 'Carpool', 'Transit', 'Walk', 'OtherTransp', 'WorkAtHome',\n",
    "       'MeanCommute', 'Employed', 'PrivateWork', 'PublicWork', 'SelfEmployed',\n",
    "       'FamilyWork', 'Unemployment']\n",
    "corr = df[var].corr().drop('Count')[['Count']]\n",
    "best_corr = corr[abs(corr[\"Count\"])>.20]\n",
    "print(best_corr)"
   ]
  },
  {
   "cell_type": "markdown",
   "id": "8ed5f45b",
   "metadata": {},
   "source": [
    "### Preprocessing"
   ]
  },
  {
   "cell_type": "code",
   "execution_count": 100,
   "id": "302a298d",
   "metadata": {},
   "outputs": [],
   "source": [
    "# Train test split\n",
    "feature_names = ['TotalPop', 'Hispanic', 'White', 'Black', 'Native', 'Asian', 'Pacific', 'IncomePerCap', 'Poverty',\\\n",
    "                 'Professional', 'Service', 'Office', 'Construction', 'Production', 'Drive', 'Carpool', 'Transit',\\\n",
    "                 'Walk', 'OtherTransp']\n",
    "features = df[feature_names].fillna(0)\n",
    "features = features.apply(lambda x: stats.zscore(x))\n",
    "target = df[[\"Count\"]].fillna(0)\n",
    "x_train, x_test, y_train, y_test = train_test_split(features, target, test_size=0.2, random_state=0)"
   ]
  },
  {
   "cell_type": "code",
<<<<<<< HEAD
   "execution_count": 48,
=======
   "execution_count": 101,
>>>>>>> c85ca45b5e1d82e46d8a7d72a442375c4e71bf4c
   "id": "90c5904d",
   "metadata": {
    "scrolled": true
   },
   "outputs": [
    {
     "name": "stdout",
     "output_type": "stream",
     "text": [
<<<<<<< HEAD
      "fit_time                        0.009883\n",
      "score_time                      0.006143\n",
      "test_r2                         0.762336\n",
      "test_neg_mean_squared_error   -78.182999\n",
      "dtype: float64\n",
      "fit_time                         0.099292\n",
      "score_time                       0.009474\n",
      "test_r2                         -2.985972\n",
      "test_neg_mean_squared_error   -998.747508\n",
      "dtype: float64\n",
      "fit_time                          2.322649\n",
      "score_time                        0.033617\n",
      "test_r2                         -47.148862\n",
      "test_neg_mean_squared_error   -9892.625115\n",
      "dtype: float64\n",
      "fit_time                           29.982182\n",
      "score_time                          0.366934\n",
      "test_r2                          -212.969494\n",
      "test_neg_mean_squared_error   -195010.730647\n",
=======
      "fit_time                        0.005454\n",
      "score_time                      0.003966\n",
      "test_r2                         0.760518\n",
      "test_neg_mean_squared_error   -78.506952\n",
      "dtype: float64\n",
      "fit_time                         0.019534\n",
      "score_time                       0.003925\n",
      "test_r2                          0.422705\n",
      "test_neg_mean_squared_error   -114.892441\n",
      "dtype: float64\n",
      "fit_time                       6.657817e-01\n",
      "score_time                     8.738041e-03\n",
      "test_r2                       -3.173584e+03\n",
      "test_neg_mean_squared_error   -1.902187e+06\n",
      "dtype: float64\n",
      "fit_time                       1.150140e+00\n",
      "score_time                     2.017798e-02\n",
      "test_r2                       -8.768581e+03\n",
      "test_neg_mean_squared_error   -3.235406e+06\n",
>>>>>>> c85ca45b5e1d82e46d8a7d72a442375c4e71bf4c
      "dtype: float64\n"
     ]
    }
   ],
   "source": [
<<<<<<< HEAD
    "x_train_temp, x_test_temp, y_train_temp, y_test_temp = train_test_split(x_train, y_train, test_size=0.2, random_state=1)\n",
    "\n",
    "array_for_visualization = []\n",
    "\n",
=======
    "# Cross validation\n",
>>>>>>> c85ca45b5e1d82e46d8a7d72a442375c4e71bf4c
    "for i in range(1,5):\n",
    "    x_train_temp, x_test_temp, y_train_temp, y_test_temp = train_test_split(x_train, y_train, test_size=0.2, random_state=i)\n",
    "    poly_model = make_pipeline(PolynomialFeatures(i), LinearRegression())\n",
<<<<<<< HEAD
    "    d = pd.DataFrame(cross_validate(poly_model, x_train_temp, y_train_temp, scoring=('r2', 'neg_mean_squared_error')))\n",
    "    print(d.mean())\n",
    "    array_for_visualization.append(d.mean()['test_r2'])\n",
    "    "
=======
    "    d = pd.DataFrame(cross_validate(poly_model, x_train_temp, y_train_temp, cv=5, scoring=('r2', 'neg_mean_squared_error')))\n",
    "    print(d.mean())"
>>>>>>> c85ca45b5e1d82e46d8a7d72a442375c4e71bf4c
   ]
  },
  {
   "cell_type": "markdown",
   "id": "69156b53",
   "metadata": {},
   "source": [
    "### Linear Regression"
   ]
  },
  {
   "cell_type": "code",
<<<<<<< HEAD
   "execution_count": 24,
=======
   "execution_count": 102,
>>>>>>> c85ca45b5e1d82e46d8a7d72a442375c4e71bf4c
   "id": "924f00b9",
   "metadata": {},
   "outputs": [
    {
     "name": "stdout",
     "output_type": "stream",
     "text": [
<<<<<<< HEAD
      "0.6306087348221673\n"
=======
      "0.6306102723265778\n"
>>>>>>> c85ca45b5e1d82e46d8a7d72a442375c4e71bf4c
     ]
    }
   ],
   "source": [
    "model = LinearRegression()\n",
    "model.fit(x_train, y_train)\n",
    "\n",
    "map_ = np.vectorize(lambda x: 0 if x < 0 else math.floor(x))\n",
    "y_pred = np.array([map_(y) for y in model.predict(x_test)])\n",
    "\n",
    "print(r2_score(y_test, y_pred))"
   ]
  },
  {
   "cell_type": "markdown",
   "id": "e86130a5",
   "metadata": {},
   "source": [
    "## Data Visualization"
   ]
  },
  {
   "cell_type": "code",
<<<<<<< HEAD
   "execution_count": 28,
=======
   "execution_count": 103,
>>>>>>> c85ca45b5e1d82e46d8a7d72a442375c4e71bf4c
   "id": "fd75f147",
   "metadata": {},
   "outputs": [
    {
<<<<<<< HEAD
     "data": {
      "text/plain": [
       "Text(0.5, 1.0, 'Number of Starbucks by Feature')"
      ]
     },
     "execution_count": 28,
     "metadata": {},
     "output_type": "execute_result"
    },
    {
     "data": {
      "image/png": "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\n",
      "text/plain": [
       "<Figure size 432x288 with 1 Axes>"
      ]
     },
     "metadata": {
      "needs_background": "light"
     },
     "output_type": "display_data"
    },
    {
     "data": {
      "image/png": "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\n",
      "text/plain": [
       "<Figure size 432x288 with 1 Axes>"
      ]
     },
     "metadata": {
      "needs_background": "light"
     },
     "output_type": "display_data"
    },
    {
     "data": {
      "image/png": "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\n",
      "text/plain": [
       "<Figure size 432x288 with 1 Axes>"
      ]
     },
     "metadata": {
      "needs_background": "light"
     },
     "output_type": "display_data"
    },
    {
     "data": {
      "image/png": "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\n",
      "text/plain": [
       "<Figure size 432x288 with 1 Axes>"
      ]
     },
     "metadata": {
      "needs_background": "light"
     },
     "output_type": "display_data"
    },
    {
     "data": {
      "image/png": "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\n",
      "text/plain": [
       "<Figure size 432x288 with 1 Axes>"
      ]
     },
     "metadata": {
      "needs_background": "light"
     },
     "output_type": "display_data"
    },
    {
     "data": {
      "image/png": "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\n",
      "text/plain": [
       "<Figure size 432x288 with 1 Axes>"
      ]
     },
     "metadata": {
      "needs_background": "light"
     },
     "output_type": "display_data"
    },
    {
     "data": {
      "image/png": "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\n",
      "text/plain": [
       "<Figure size 432x288 with 1 Axes>"
      ]
     },
     "metadata": {
      "needs_background": "light"
     },
     "output_type": "display_data"
    },
    {
     "data": {
      "image/png": "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\n",
      "text/plain": [
       "<Figure size 432x288 with 1 Axes>"
      ]
     },
     "metadata": {
      "needs_background": "light"
     },
     "output_type": "display_data"
=======
     "ename": "KeyError",
     "evalue": "\"['Non White'] not in index\"",
     "output_type": "error",
     "traceback": [
      "\u001b[0;31m---------------------------------------------------------------------------\u001b[0m",
      "\u001b[0;31mKeyError\u001b[0m                                  Traceback (most recent call last)",
      "\u001b[0;32m<ipython-input-103-1fd649b5e91b>\u001b[0m in \u001b[0;36m<module>\u001b[0;34m\u001b[0m\n\u001b[1;32m      4\u001b[0m     \u001b[0;32mreturn\u001b[0m \u001b[0mresult\u001b[0m\u001b[0;34m\u001b[0m\u001b[0;34m\u001b[0m\u001b[0m\n\u001b[1;32m      5\u001b[0m \u001b[0;34m\u001b[0m\u001b[0m\n\u001b[0;32m----> 6\u001b[0;31m \u001b[0mdata\u001b[0m \u001b[0;34m=\u001b[0m \u001b[0mdf\u001b[0m\u001b[0;34m[\u001b[0m\u001b[0;34m[\u001b[0m\u001b[0;34m\"TotalPop\"\u001b[0m\u001b[0;34m,\u001b[0m\u001b[0;34m\"White\"\u001b[0m\u001b[0;34m,\u001b[0m\u001b[0;34m\"Non White\"\u001b[0m\u001b[0;34m,\u001b[0m\u001b[0;34m\"IncomePerCap\"\u001b[0m\u001b[0;34m,\u001b[0m\u001b[0;34m\"Professional\"\u001b[0m\u001b[0;34m,\u001b[0m\u001b[0;34m\"Construction\"\u001b[0m\u001b[0;34m,\u001b[0m\u001b[0;34m\"Transit\"\u001b[0m\u001b[0;34m]\u001b[0m\u001b[0;34m]\u001b[0m\u001b[0;34m\u001b[0m\u001b[0;34m\u001b[0m\u001b[0m\n\u001b[0m\u001b[1;32m      7\u001b[0m \u001b[0mcolumns\u001b[0m \u001b[0;34m=\u001b[0m \u001b[0;34m[\u001b[0m\u001b[0;34m\"TotalPop\"\u001b[0m\u001b[0;34m,\u001b[0m\u001b[0;34m\"White\"\u001b[0m\u001b[0;34m,\u001b[0m\u001b[0;34m\"Non White\"\u001b[0m\u001b[0;34m,\u001b[0m\u001b[0;34m\"IncomePerCap\"\u001b[0m\u001b[0;34m,\u001b[0m\u001b[0;34m\"Professional\"\u001b[0m\u001b[0;34m,\u001b[0m\u001b[0;34m\"Construction\"\u001b[0m\u001b[0;34m,\u001b[0m\u001b[0;34m\"Transit\"\u001b[0m\u001b[0;34m]\u001b[0m\u001b[0;34m\u001b[0m\u001b[0;34m\u001b[0m\u001b[0m\n\u001b[1;32m      8\u001b[0m \u001b[0mdata\u001b[0m \u001b[0;34m=\u001b[0m \u001b[0mnormalize\u001b[0m\u001b[0;34m(\u001b[0m\u001b[0mdata\u001b[0m\u001b[0;34m,\u001b[0m \u001b[0mcolumns\u001b[0m\u001b[0;34m)\u001b[0m\u001b[0;34m\u001b[0m\u001b[0;34m\u001b[0m\u001b[0m\n",
      "\u001b[0;32m/opt/anaconda3/lib/python3.8/site-packages/pandas/core/frame.py\u001b[0m in \u001b[0;36m__getitem__\u001b[0;34m(self, key)\u001b[0m\n\u001b[1;32m   3028\u001b[0m             \u001b[0;32mif\u001b[0m \u001b[0mis_iterator\u001b[0m\u001b[0;34m(\u001b[0m\u001b[0mkey\u001b[0m\u001b[0;34m)\u001b[0m\u001b[0;34m:\u001b[0m\u001b[0;34m\u001b[0m\u001b[0;34m\u001b[0m\u001b[0m\n\u001b[1;32m   3029\u001b[0m                 \u001b[0mkey\u001b[0m \u001b[0;34m=\u001b[0m \u001b[0mlist\u001b[0m\u001b[0;34m(\u001b[0m\u001b[0mkey\u001b[0m\u001b[0;34m)\u001b[0m\u001b[0;34m\u001b[0m\u001b[0;34m\u001b[0m\u001b[0m\n\u001b[0;32m-> 3030\u001b[0;31m             \u001b[0mindexer\u001b[0m \u001b[0;34m=\u001b[0m \u001b[0mself\u001b[0m\u001b[0;34m.\u001b[0m\u001b[0mloc\u001b[0m\u001b[0;34m.\u001b[0m\u001b[0m_get_listlike_indexer\u001b[0m\u001b[0;34m(\u001b[0m\u001b[0mkey\u001b[0m\u001b[0;34m,\u001b[0m \u001b[0maxis\u001b[0m\u001b[0;34m=\u001b[0m\u001b[0;36m1\u001b[0m\u001b[0;34m,\u001b[0m \u001b[0mraise_missing\u001b[0m\u001b[0;34m=\u001b[0m\u001b[0;32mTrue\u001b[0m\u001b[0;34m)\u001b[0m\u001b[0;34m[\u001b[0m\u001b[0;36m1\u001b[0m\u001b[0;34m]\u001b[0m\u001b[0;34m\u001b[0m\u001b[0;34m\u001b[0m\u001b[0m\n\u001b[0m\u001b[1;32m   3031\u001b[0m \u001b[0;34m\u001b[0m\u001b[0m\n\u001b[1;32m   3032\u001b[0m         \u001b[0;31m# take() does not accept boolean indexers\u001b[0m\u001b[0;34m\u001b[0m\u001b[0;34m\u001b[0m\u001b[0;34m\u001b[0m\u001b[0m\n",
      "\u001b[0;32m/opt/anaconda3/lib/python3.8/site-packages/pandas/core/indexing.py\u001b[0m in \u001b[0;36m_get_listlike_indexer\u001b[0;34m(self, key, axis, raise_missing)\u001b[0m\n\u001b[1;32m   1264\u001b[0m             \u001b[0mkeyarr\u001b[0m\u001b[0;34m,\u001b[0m \u001b[0mindexer\u001b[0m\u001b[0;34m,\u001b[0m \u001b[0mnew_indexer\u001b[0m \u001b[0;34m=\u001b[0m \u001b[0max\u001b[0m\u001b[0;34m.\u001b[0m\u001b[0m_reindex_non_unique\u001b[0m\u001b[0;34m(\u001b[0m\u001b[0mkeyarr\u001b[0m\u001b[0;34m)\u001b[0m\u001b[0;34m\u001b[0m\u001b[0;34m\u001b[0m\u001b[0m\n\u001b[1;32m   1265\u001b[0m \u001b[0;34m\u001b[0m\u001b[0m\n\u001b[0;32m-> 1266\u001b[0;31m         \u001b[0mself\u001b[0m\u001b[0;34m.\u001b[0m\u001b[0m_validate_read_indexer\u001b[0m\u001b[0;34m(\u001b[0m\u001b[0mkeyarr\u001b[0m\u001b[0;34m,\u001b[0m \u001b[0mindexer\u001b[0m\u001b[0;34m,\u001b[0m \u001b[0maxis\u001b[0m\u001b[0;34m,\u001b[0m \u001b[0mraise_missing\u001b[0m\u001b[0;34m=\u001b[0m\u001b[0mraise_missing\u001b[0m\u001b[0;34m)\u001b[0m\u001b[0;34m\u001b[0m\u001b[0;34m\u001b[0m\u001b[0m\n\u001b[0m\u001b[1;32m   1267\u001b[0m         \u001b[0;32mreturn\u001b[0m \u001b[0mkeyarr\u001b[0m\u001b[0;34m,\u001b[0m \u001b[0mindexer\u001b[0m\u001b[0;34m\u001b[0m\u001b[0;34m\u001b[0m\u001b[0m\n\u001b[1;32m   1268\u001b[0m \u001b[0;34m\u001b[0m\u001b[0m\n",
      "\u001b[0;32m/opt/anaconda3/lib/python3.8/site-packages/pandas/core/indexing.py\u001b[0m in \u001b[0;36m_validate_read_indexer\u001b[0;34m(self, key, indexer, axis, raise_missing)\u001b[0m\n\u001b[1;32m   1314\u001b[0m             \u001b[0;32mif\u001b[0m \u001b[0mraise_missing\u001b[0m\u001b[0;34m:\u001b[0m\u001b[0;34m\u001b[0m\u001b[0;34m\u001b[0m\u001b[0m\n\u001b[1;32m   1315\u001b[0m                 \u001b[0mnot_found\u001b[0m \u001b[0;34m=\u001b[0m \u001b[0mlist\u001b[0m\u001b[0;34m(\u001b[0m\u001b[0mset\u001b[0m\u001b[0;34m(\u001b[0m\u001b[0mkey\u001b[0m\u001b[0;34m)\u001b[0m \u001b[0;34m-\u001b[0m \u001b[0mset\u001b[0m\u001b[0;34m(\u001b[0m\u001b[0max\u001b[0m\u001b[0;34m)\u001b[0m\u001b[0;34m)\u001b[0m\u001b[0;34m\u001b[0m\u001b[0;34m\u001b[0m\u001b[0m\n\u001b[0;32m-> 1316\u001b[0;31m                 \u001b[0;32mraise\u001b[0m \u001b[0mKeyError\u001b[0m\u001b[0;34m(\u001b[0m\u001b[0;34mf\"{not_found} not in index\"\u001b[0m\u001b[0;34m)\u001b[0m\u001b[0;34m\u001b[0m\u001b[0;34m\u001b[0m\u001b[0m\n\u001b[0m\u001b[1;32m   1317\u001b[0m \u001b[0;34m\u001b[0m\u001b[0m\n\u001b[1;32m   1318\u001b[0m             \u001b[0mnot_found\u001b[0m \u001b[0;34m=\u001b[0m \u001b[0mkey\u001b[0m\u001b[0;34m[\u001b[0m\u001b[0mmissing_mask\u001b[0m\u001b[0;34m]\u001b[0m\u001b[0;34m\u001b[0m\u001b[0;34m\u001b[0m\u001b[0m\n",
      "\u001b[0;31mKeyError\u001b[0m: \"['Non White'] not in index\""
     ]
>>>>>>> c85ca45b5e1d82e46d8a7d72a442375c4e71bf4c
    }
   ],
   "source": [
    "def normalize(df, columns):\n",
    "    result = df[columns]\n",
    "    result = (result - result.mean())/result.std()\n",
    "    return result\n",
    "\n",
    "data = df[[\"TotalPop\",\"White\",\"Asian\", \"Income\",\"IncomePerCap\",\"Professional\",\"Construction\",\"Transit\"]]\n",
    "columns = [\"TotalPop\",\"White\",\"Asian\",\"Income\",\"IncomePerCap\",\"Professional\",\"Construction\",\"Transit\"]\n",
    "data = normalize(data, columns)\n",
    "data = data.join(df['Count'])\n",
    "\n",
    "# Feature = TotalPop\n",
    "data.plot.scatter(x=\"TotalPop\", y=\"Count\",s=1)\n",
    "plt.ylabel(\"# of Starbucks\")\n",
    "plt.xlabel(\"Total Population\")\n",
    "plt.title(\"Number of Starbucks by Feature\")\n",
    "\n",
    "# Feature = White Population\n",
    "data.plot.scatter(x=\"White\", y=\"Count\",s=1)\n",
    "plt.ylabel(\"# of Starbucks\")\n",
    "plt.xlabel(\"Proportion of Population that is White\")\n",
    "plt.title(\"Number of Starbucks by Feature\")\n",
    "\n",
    "# Feature = Asian Population\n",
    "data.plot.scatter(x=\"Asian\", y=\"Count\",s=1)\n",
    "plt.ylabel(\"# of Starbucks\")\n",
    "plt.xlabel(\"Proportion of Population that is Asian\")\n",
    "plt.title(\"Number of Starbucks by Feature\")\n",
    "\n",
    "# Feature = Income\n",
    "data.plot.scatter(x=\"Income\", y=\"Count\",s=1)\n",
    "plt.ylabel(\"# of Starbucks\")\n",
    "plt.xlabel(\"Income\")\n",
    "plt.title(\"Number of Starbucks by Feature\")\n",
    "\n",
    "# Feature = Income Per Capita\n",
    "data.plot.scatter(x=\"IncomePerCap\", y=\"Count\",s=1)\n",
    "plt.ylabel(\"# of Starbucks\")\n",
    "plt.xlabel(\"Income Per Capita\")\n",
    "plt.title(\"Number of Starbucks by Feature\")\n",
    "\n",
    "# Feature = Professional Population\n",
    "data.plot.scatter(x=\"TotalPop\", y=\"Count\",s=1)\n",
    "plt.ylabel(\"# of Starbucks\")\n",
    "plt.xlabel(\"Proportion of Population that are Professionals\")\n",
    "plt.title(\"Number of Starbucks by Feature\")\n",
    "\n",
    "# Feature = Construction Population\n",
    "data.plot.scatter(x=\"Construction\", y=\"Count\",s=1)\n",
    "plt.ylabel(\"# of Starbucks\")\n",
    "plt.xlabel(\"Proportion of Population that work in Construction\")\n",
    "plt.title(\"Number of Starbucks by Feature\")\n",
    "\n",
    "# Feature = White Population\n",
    "data.plot.scatter(x=\"Transit\", y=\"Count\",s=1)\n",
    "plt.ylabel(\"# of Starbucks\")\n",
    "plt.xlabel(\"Proportion of Population that work in Transit\")\n",
    "plt.title(\"Number of Starbucks by Feature\")"
   ]
  },
  {
   "cell_type": "code",
   "execution_count": 66,
   "id": "623ae885",
   "metadata": {},
   "outputs": [
    {
     "data": {
      "text/plain": [
       "Text(0.5, 1.0, 'Accuracy by Degree Polynomial')"
      ]
     },
     "execution_count": 66,
     "metadata": {},
     "output_type": "execute_result"
    },
    {
     "data": {
      "image/png": "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\n",
      "text/plain": [
       "<Figure size 432x288 with 1 Axes>"
      ]
     },
     "metadata": {
      "needs_background": "light"
     },
     "output_type": "display_data"
    }
   ],
   "source": [
    "array_for_visualization\n",
    "plot_data = pd.DataFrame(array_for_visualization).rename(columns = {0: 'r2'}).reset_index()\n",
    "plot_data['index'] = [1, 2, 3, 4]\n",
    "columns = ['index', 'r2']\n",
    "plot_data.plot.scatter(x=\"index\", y=\"r2\",s=15)\n",
    "plt.ylabel(\"R-Squared Value\")\n",
    "plt.xlabel(\"Degree Polynomial\")\n",
    "plt.title(\"Accuracy by Degree Polynomial\")"
   ]
  }
 ],
 "metadata": {
  "kernelspec": {
   "display_name": "Python 3",
   "language": "python",
   "name": "python3"
  },
  "language_info": {
   "codemirror_mode": {
    "name": "ipython",
    "version": 3
   },
   "file_extension": ".py",
   "mimetype": "text/x-python",
   "name": "python",
   "nbconvert_exporter": "python",
   "pygments_lexer": "ipython3",
   "version": "3.8.8"
  }
 },
 "nbformat": 4,
 "nbformat_minor": 5
}
