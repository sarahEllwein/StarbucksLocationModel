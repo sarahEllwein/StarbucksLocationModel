{
 "cells": [
  {
   "cell_type": "markdown",
   "id": "6cc0141c",
   "metadata": {},
   "source": [
    "# Starbucks Stores Prediction Model"
   ]
  },
  {
   "cell_type": "code",
   "execution_count": 2,
   "id": "89c63e66",
   "metadata": {},
   "outputs": [],
   "source": [
    "# Housekeeping\n",
    "import numpy as np\n",
    "import pandas as pd\n",
    "import matplotlib.pyplot as plt"
   ]
  },
  {
   "cell_type": "code",
   "execution_count": 3,
   "id": "25add53e",
   "metadata": {},
   "outputs": [],
   "source": [
    "# Import datasets\n",
    "starbucks = pd.read_csv('data/directory.csv')\n",
    "income = pd.read_csv('data/archive/kaggle_income.csv')"
   ]
  },
  {
   "cell_type": "markdown",
   "id": "4a74c97f",
   "metadata": {},
   "source": [
    "## Data Cleaning"
   ]
  },
  {
   "cell_type": "markdown",
   "id": "0d4ce2e6",
   "metadata": {},
   "source": [
    "Data Constraints:\n",
    "- Both Starbucks and US datasets published in 2017.\n",
    "- Starbucks store locations limited to US country. \n",
    "- Starbucks store limited to Starbucks brand (no Teavana)"
   ]
  },
  {
   "cell_type": "code",
   "execution_count": null,
   "id": "383e9bd3",
   "metadata": {},
   "outputs": [],
   "source": []
  },
  {
   "cell_type": "markdown",
   "id": "adb32799",
   "metadata": {},
   "source": [
    "## Data Analysis"
   ]
  },
  {
   "cell_type": "markdown",
   "id": "11654cae",
   "metadata": {},
   "source": [
    "### Starbucks Location Dataset"
   ]
  },
  {
   "cell_type": "markdown",
   "id": "35a47d08",
   "metadata": {},
   "source": [
    "- Number of Starbucks locations by city/state/county\n",
    "- Summary statistics of Starbucks locations per city/state/county\n",
    "- City/state/county with highest number of Starbucks\n",
    "- City/state/county with lowest number of Starbucks"
   ]
  },
  {
   "cell_type": "code",
   "execution_count": null,
   "id": "3e8cb0e5",
   "metadata": {},
   "outputs": [],
   "source": []
  },
  {
   "cell_type": "markdown",
   "id": "4ef3b18c",
   "metadata": {},
   "source": [
    "### US Income Dataset"
   ]
  },
  {
   "cell_type": "markdown",
   "id": "bc8522f9",
   "metadata": {},
   "source": [
    "- Summary statistics of US income by city/state/county\n",
    "- City/state/county with highest average income\n",
    "- City/state/county with lowest average income"
   ]
  },
  {
   "cell_type": "code",
   "execution_count": null,
   "id": "a6fdb065",
   "metadata": {},
   "outputs": [],
   "source": []
  },
  {
   "cell_type": "markdown",
   "id": "4d7518fb",
   "metadata": {},
   "source": [
    "### Starbucks and US Income Data"
   ]
  },
  {
   "cell_type": "markdown",
   "id": "64232301",
   "metadata": {},
   "source": [
    "- City/state/county with highest number of Starbucks (along with income statistics)\n",
    "- City/state/county with lowest number of Starbucks (along with income statistics)\n",
    "- City/state/county with highest income (along with number of Starbucks)\n",
    "- City/state/county with lowest income (along with number of Starbucks)\n",
    "- Cities/states/counties without Starbucks (along with income statistics)\n",
    "- City/state/county furthest from the nearest Starbucks (along with income statistics)\n",
    "- Correlation between Starbucks location and regional income"
   ]
  },
  {
   "cell_type": "code",
   "execution_count": null,
   "id": "94179df5",
   "metadata": {},
   "outputs": [],
   "source": []
  },
  {
   "cell_type": "markdown",
   "id": "b4b02fe9",
   "metadata": {},
   "source": [
    "## Data Visualization"
   ]
  },
  {
   "cell_type": "markdown",
   "id": "f7a8ad46",
   "metadata": {},
   "source": [
    "### Distribution of Number of Starbucks Locations"
   ]
  },
  {
   "cell_type": "code",
   "execution_count": null,
   "id": "316a959a",
   "metadata": {},
   "outputs": [],
   "source": []
  },
  {
   "cell_type": "markdown",
   "id": "4dee6cc0",
   "metadata": {},
   "source": [
    "### Starbucks Location vs. Regional Income"
   ]
  },
  {
   "cell_type": "code",
   "execution_count": null,
   "id": "b16f624b",
   "metadata": {},
   "outputs": [],
   "source": []
  },
  {
   "cell_type": "markdown",
   "id": "90347f56",
   "metadata": {},
   "source": [
    "## Starbucks Location Prediction"
   ]
  },
  {
   "cell_type": "markdown",
   "id": "ec9c8abc",
   "metadata": {},
   "source": [
    "### Training Model"
   ]
  },
  {
   "cell_type": "code",
   "execution_count": null,
   "id": "e048dbc5",
   "metadata": {},
   "outputs": [],
   "source": []
  },
  {
   "cell_type": "markdown",
   "id": "10d5efdc",
   "metadata": {},
   "source": [
    "### Testing Model"
   ]
  },
  {
   "cell_type": "code",
   "execution_count": null,
   "id": "f6c8ded6",
   "metadata": {},
   "outputs": [],
   "source": []
  }
 ],
 "metadata": {
  "kernelspec": {
   "display_name": "Python 3",
   "language": "python",
   "name": "python3"
  },
  "language_info": {
   "codemirror_mode": {
    "name": "ipython",
    "version": 3
   },
   "file_extension": ".py",
   "mimetype": "text/x-python",
   "name": "python",
   "nbconvert_exporter": "python",
   "pygments_lexer": "ipython3",
   "version": "3.8.8"
  }
 },
 "nbformat": 4,
 "nbformat_minor": 5
}
