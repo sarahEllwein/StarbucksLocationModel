{
 "cells": [
  {
   "cell_type": "markdown",
<<<<<<< HEAD
   "id": "f903e144",
=======
   "id": "3c72764f",
>>>>>>> 24a43165501219fe02abe65472a7adf47beba2a3
   "metadata": {},
   "source": [
    "# Starbucks Stores Analysis"
   ]
  },
  {
   "cell_type": "code",
<<<<<<< HEAD
   "execution_count": 1,
   "id": "f371ba99",
   "metadata": {},
   "outputs": [],
=======
   "execution_count": 35,
   "id": "ba4fcb19",
   "metadata": {},
   "outputs": [
    {
     "name": "stdout",
     "output_type": "stream",
     "text": [
      "Requirement already satisfied: tensorflow in c:\\users\\naomi\\anaconda3\\lib\\site-packages (2.7.0)\n",
      "Requirement already satisfied: typing-extensions>=3.6.6 in c:\\users\\naomi\\anaconda3\\lib\\site-packages (from tensorflow) (3.7.4.3)\n",
      "Requirement already satisfied: gast<0.5.0,>=0.2.1 in c:\\users\\naomi\\anaconda3\\lib\\site-packages (from tensorflow) (0.4.0)\n",
      "Requirement already satisfied: wrapt>=1.11.0 in c:\\users\\naomi\\anaconda3\\lib\\site-packages (from tensorflow) (1.12.1)\n",
      "Requirement already satisfied: h5py>=2.9.0 in c:\\users\\naomi\\anaconda3\\lib\\site-packages (from tensorflow) (2.10.0)\n",
      "Requirement already satisfied: numpy>=1.14.5 in c:\\users\\naomi\\anaconda3\\lib\\site-packages (from tensorflow) (1.20.1)\n",
      "Requirement already satisfied: wheel<1.0,>=0.32.0 in c:\\users\\naomi\\anaconda3\\lib\\site-packages (from tensorflow) (0.36.2)\n",
      "Requirement already satisfied: astunparse>=1.6.0 in c:\\users\\naomi\\anaconda3\\lib\\site-packages (from tensorflow) (1.6.3)\n",
      "Requirement already satisfied: termcolor>=1.1.0 in c:\\users\\naomi\\anaconda3\\lib\\site-packages (from tensorflow) (1.1.0)\n",
      "Requirement already satisfied: keras<2.8,>=2.7.0rc0 in c:\\users\\naomi\\anaconda3\\lib\\site-packages (from tensorflow) (2.7.0)\n",
      "Requirement already satisfied: google-pasta>=0.1.1 in c:\\users\\naomi\\anaconda3\\lib\\site-packages (from tensorflow) (0.2.0)\n",
      "Requirement already satisfied: keras-preprocessing>=1.1.1 in c:\\users\\naomi\\anaconda3\\lib\\site-packages (from tensorflow) (1.1.2)\n",
      "Requirement already satisfied: protobuf>=3.9.2 in c:\\users\\naomi\\anaconda3\\lib\\site-packages (from tensorflow) (3.19.1)\n",
      "Requirement already satisfied: grpcio<2.0,>=1.24.3 in c:\\users\\naomi\\anaconda3\\lib\\site-packages (from tensorflow) (1.42.0)\n",
      "Requirement already satisfied: six>=1.12.0 in c:\\users\\naomi\\anaconda3\\lib\\site-packages (from tensorflow) (1.15.0)\n",
      "Requirement already satisfied: tensorboard~=2.6 in c:\\users\\naomi\\anaconda3\\lib\\site-packages (from tensorflow) (2.7.0)\n",
      "Requirement already satisfied: tensorflow-io-gcs-filesystem>=0.21.0 in c:\\users\\naomi\\anaconda3\\lib\\site-packages (from tensorflow) (0.22.0)\n",
      "Requirement already satisfied: opt-einsum>=2.3.2 in c:\\users\\naomi\\anaconda3\\lib\\site-packages (from tensorflow) (3.3.0)\n",
      "Requirement already satisfied: libclang>=9.0.1 in c:\\users\\naomi\\anaconda3\\lib\\site-packages (from tensorflow) (12.0.0)\n",
      "Requirement already satisfied: flatbuffers<3.0,>=1.12 in c:\\users\\naomi\\anaconda3\\lib\\site-packages (from tensorflow) (2.0)\n",
      "Requirement already satisfied: tensorflow-estimator<2.8,~=2.7.0rc0 in c:\\users\\naomi\\anaconda3\\lib\\site-packages (from tensorflow) (2.7.0)\n",
      "Requirement already satisfied: absl-py>=0.4.0 in c:\\users\\naomi\\anaconda3\\lib\\site-packages (from tensorflow) (1.0.0)\n",
      "Requirement already satisfied: setuptools>=41.0.0 in c:\\users\\naomi\\anaconda3\\lib\\site-packages (from tensorboard~=2.6->tensorflow) (52.0.0.post20210125)\n",
      "Requirement already satisfied: google-auth<3,>=1.6.3 in c:\\users\\naomi\\anaconda3\\lib\\site-packages (from tensorboard~=2.6->tensorflow) (2.3.3)\n",
      "Requirement already satisfied: tensorboard-data-server<0.7.0,>=0.6.0 in c:\\users\\naomi\\anaconda3\\lib\\site-packages (from tensorboard~=2.6->tensorflow) (0.6.1)\n",
      "Requirement already satisfied: requests<3,>=2.21.0 in c:\\users\\naomi\\anaconda3\\lib\\site-packages (from tensorboard~=2.6->tensorflow) (2.25.1)\n",
      "Requirement already satisfied: google-auth-oauthlib<0.5,>=0.4.1 in c:\\users\\naomi\\anaconda3\\lib\\site-packages (from tensorboard~=2.6->tensorflow) (0.4.6)\n",
      "Requirement already satisfied: werkzeug>=0.11.15 in c:\\users\\naomi\\anaconda3\\lib\\site-packages (from tensorboard~=2.6->tensorflow) (1.0.1)\n",
      "Requirement already satisfied: markdown>=2.6.8 in c:\\users\\naomi\\anaconda3\\lib\\site-packages (from tensorboard~=2.6->tensorflow) (3.3.6)\n",
      "Requirement already satisfied: tensorboard-plugin-wit>=1.6.0 in c:\\users\\naomi\\anaconda3\\lib\\site-packages (from tensorboard~=2.6->tensorflow) (1.8.0)\n",
      "Requirement already satisfied: cachetools<5.0,>=2.0.0 in c:\\users\\naomi\\anaconda3\\lib\\site-packages (from google-auth<3,>=1.6.3->tensorboard~=2.6->tensorflow) (4.2.4)\n",
      "Requirement already satisfied: pyasn1-modules>=0.2.1 in c:\\users\\naomi\\anaconda3\\lib\\site-packages (from google-auth<3,>=1.6.3->tensorboard~=2.6->tensorflow) (0.2.8)\n",
      "Requirement already satisfied: rsa<5,>=3.1.4 in c:\\users\\naomi\\anaconda3\\lib\\site-packages (from google-auth<3,>=1.6.3->tensorboard~=2.6->tensorflow) (4.8)\n",
      "Requirement already satisfied: requests-oauthlib>=0.7.0 in c:\\users\\naomi\\anaconda3\\lib\\site-packages (from google-auth-oauthlib<0.5,>=0.4.1->tensorboard~=2.6->tensorflow) (1.3.0)\n",
      "Requirement already satisfied: importlib-metadata>=4.4 in c:\\users\\naomi\\anaconda3\\lib\\site-packages (from markdown>=2.6.8->tensorboard~=2.6->tensorflow) (4.8.2)\n",
      "Requirement already satisfied: zipp>=0.5 in c:\\users\\naomi\\anaconda3\\lib\\site-packages (from importlib-metadata>=4.4->markdown>=2.6.8->tensorboard~=2.6->tensorflow) (3.4.1)\n",
      "Requirement already satisfied: pyasn1<0.5.0,>=0.4.6 in c:\\users\\naomi\\anaconda3\\lib\\site-packages (from pyasn1-modules>=0.2.1->google-auth<3,>=1.6.3->tensorboard~=2.6->tensorflow) (0.4.8)\n",
      "Requirement already satisfied: urllib3<1.27,>=1.21.1 in c:\\users\\naomi\\anaconda3\\lib\\site-packages (from requests<3,>=2.21.0->tensorboard~=2.6->tensorflow) (1.26.4)\n",
      "Requirement already satisfied: certifi>=2017.4.17 in c:\\users\\naomi\\anaconda3\\lib\\site-packages (from requests<3,>=2.21.0->tensorboard~=2.6->tensorflow) (2020.12.5)\n",
      "Requirement already satisfied: chardet<5,>=3.0.2 in c:\\users\\naomi\\anaconda3\\lib\\site-packages (from requests<3,>=2.21.0->tensorboard~=2.6->tensorflow) (4.0.0)\n",
      "Requirement already satisfied: idna<3,>=2.5 in c:\\users\\naomi\\anaconda3\\lib\\site-packages (from requests<3,>=2.21.0->tensorboard~=2.6->tensorflow) (2.10)\n",
      "Requirement already satisfied: oauthlib>=3.0.0 in c:\\users\\naomi\\anaconda3\\lib\\site-packages (from requests-oauthlib>=0.7.0->google-auth-oauthlib<0.5,>=0.4.1->tensorboard~=2.6->tensorflow) (3.1.1)\n"
     ]
    }
   ],
>>>>>>> 24a43165501219fe02abe65472a7adf47beba2a3
   "source": [
    "# Housekeeping\n",
    "import numpy as np\n",
    "import pandas as pd\n",
    "import matplotlib.pyplot as plt\n",
    "from scipy import stats\n",
    "from sklearn.model_selection import train_test_split, cross_validate\n",
    "from sklearn.preprocessing import PolynomialFeatures\n",
    "from sklearn.pipeline import make_pipeline\n",
    "from sklearn.linear_model import LinearRegression\n",
    "from sklearn.metrics import r2_score, mean_squared_error\n",
    "import math"
   ]
  },
  {
   "cell_type": "markdown",
<<<<<<< HEAD
   "id": "9226cd2c",
=======
   "id": "0aacfffa",
>>>>>>> 24a43165501219fe02abe65472a7adf47beba2a3
   "metadata": {},
   "source": [
    "## Datasets"
   ]
  },
  {
   "cell_type": "markdown",
<<<<<<< HEAD
   "id": "613f102a",
=======
   "id": "99749651",
>>>>>>> 24a43165501219fe02abe65472a7adf47beba2a3
   "metadata": {},
   "source": [
    "Data Constraints:\n",
    "- Both Starbucks and US datasets published in 2017.\n",
    "- Starbucks store locations limited to US country. \n",
    "- Starbucks store limited to Starbucks brand (no Teavana)\n",
    "- Exclude Puerto Rico from US datasets"
   ]
  },
  {
   "cell_type": "code",
<<<<<<< HEAD
   "execution_count": 2,
   "id": "aafdeeb0",
=======
   "execution_count": 36,
   "id": "d9b321b1",
>>>>>>> 24a43165501219fe02abe65472a7adf47beba2a3
   "metadata": {},
   "outputs": [],
   "source": [
    "starbucks = pd.read_csv('data/directory.csv')\n",
    "starbucks = starbucks.query(\"Brand == 'Starbucks'\").query(\"Country == 'US'\")\n",
    "starbucks = starbucks.drop(columns=[\"Brand\", \"Store Name\", \"Ownership Type\", \"Street Address\",\"Phone Number\",\"Timezone\", \"Postcode\", \"Country\"])\n",
    "starbucks = starbucks.rename(columns={'State/Province' : 'State'})"
   ]
  },
  {
   "cell_type": "code",
<<<<<<< HEAD
   "execution_count": 3,
   "id": "4d3d7776",
=======
   "execution_count": 37,
   "id": "84663e5e",
>>>>>>> 24a43165501219fe02abe65472a7adf47beba2a3
   "metadata": {},
   "outputs": [],
   "source": [
    "cities = pd.read_csv('data/uscities.csv')\n",
    "cities = cities[[\"city\", \"state_id\", \"state_name\", \"county_name\"]]"
   ]
  },
  {
   "cell_type": "code",
<<<<<<< HEAD
   "execution_count": 4,
   "id": "9b8caf60",
=======
   "execution_count": 38,
   "id": "9a07f5bd",
>>>>>>> 24a43165501219fe02abe65472a7adf47beba2a3
   "metadata": {},
   "outputs": [],
   "source": [
    "demographic = pd.read_csv('data/demo.csv', encoding='cp1252')\n",
    "demographic = demographic[demographic['State'] != 'Puerto Rico']\n",
    "demographic[\"County\"] = demographic[\"County\"].apply(lambda x: ' '.join(x.split()[0:-1]))"
   ]
  },
  {
   "cell_type": "markdown",
<<<<<<< HEAD
   "id": "04846a27",
=======
   "id": "534016b5",
>>>>>>> 24a43165501219fe02abe65472a7adf47beba2a3
   "metadata": {},
   "source": [
    "### Data Clean Up"
   ]
  },
  {
   "cell_type": "code",
<<<<<<< HEAD
   "execution_count": 5,
   "id": "2ac869ca",
=======
   "execution_count": 39,
   "id": "10cb04b1",
>>>>>>> 24a43165501219fe02abe65472a7adf47beba2a3
   "metadata": {},
   "outputs": [
    {
     "data": {
      "text/html": [
       "<div>\n",
       "<style scoped>\n",
       "    .dataframe tbody tr th:only-of-type {\n",
       "        vertical-align: middle;\n",
       "    }\n",
       "\n",
       "    .dataframe tbody tr th {\n",
       "        vertical-align: top;\n",
       "    }\n",
       "\n",
       "    .dataframe thead th {\n",
       "        text-align: right;\n",
       "    }\n",
       "</style>\n",
       "<table border=\"1\" class=\"dataframe\">\n",
       "  <thead>\n",
       "    <tr style=\"text-align: right;\">\n",
       "      <th></th>\n",
       "      <th>Store Number</th>\n",
       "      <th>City</th>\n",
       "      <th>Longitude</th>\n",
       "      <th>Latitude</th>\n",
       "      <th>State</th>\n",
       "      <th>County</th>\n",
       "    </tr>\n",
       "  </thead>\n",
       "  <tbody>\n",
       "    <tr>\n",
       "      <th>0</th>\n",
       "      <td>3513-125945</td>\n",
       "      <td>Anchorage</td>\n",
       "      <td>-149.78</td>\n",
       "      <td>61.21</td>\n",
       "      <td>Alaska</td>\n",
       "      <td>Anchorage</td>\n",
       "    </tr>\n",
       "    <tr>\n",
       "      <th>1</th>\n",
       "      <td>74352-84449</td>\n",
       "      <td>Anchorage</td>\n",
       "      <td>-149.84</td>\n",
       "      <td>61.14</td>\n",
       "      <td>Alaska</td>\n",
       "      <td>Anchorage</td>\n",
       "    </tr>\n",
       "    <tr>\n",
       "      <th>2</th>\n",
       "      <td>12449-152385</td>\n",
       "      <td>Anchorage</td>\n",
       "      <td>-149.85</td>\n",
       "      <td>61.11</td>\n",
       "      <td>Alaska</td>\n",
       "      <td>Anchorage</td>\n",
       "    </tr>\n",
       "    <tr>\n",
       "      <th>3</th>\n",
       "      <td>24936-233524</td>\n",
       "      <td>Anchorage</td>\n",
       "      <td>-149.89</td>\n",
       "      <td>61.13</td>\n",
       "      <td>Alaska</td>\n",
       "      <td>Anchorage</td>\n",
       "    </tr>\n",
       "    <tr>\n",
       "      <th>4</th>\n",
       "      <td>8973-85630</td>\n",
       "      <td>Anchorage</td>\n",
       "      <td>-149.86</td>\n",
       "      <td>61.14</td>\n",
       "      <td>Alaska</td>\n",
       "      <td>Anchorage</td>\n",
       "    </tr>\n",
       "    <tr>\n",
       "      <th>...</th>\n",
       "      <td>...</td>\n",
       "      <td>...</td>\n",
       "      <td>...</td>\n",
       "      <td>...</td>\n",
       "      <td>...</td>\n",
       "      <td>...</td>\n",
       "    </tr>\n",
       "    <tr>\n",
       "      <th>12119</th>\n",
       "      <td>22353-220004</td>\n",
       "      <td>Lander</td>\n",
       "      <td>-108.75</td>\n",
       "      <td>42.84</td>\n",
       "      <td>Wyoming</td>\n",
       "      <td>Fremont</td>\n",
       "    </tr>\n",
       "    <tr>\n",
       "      <th>12120</th>\n",
       "      <td>74385-87621</td>\n",
       "      <td>Laramie</td>\n",
       "      <td>-105.59</td>\n",
       "      <td>41.32</td>\n",
       "      <td>Wyoming</td>\n",
       "      <td>Albany</td>\n",
       "    </tr>\n",
       "    <tr>\n",
       "      <th>12121</th>\n",
       "      <td>73320-24375</td>\n",
       "      <td>Laramie</td>\n",
       "      <td>-105.56</td>\n",
       "      <td>41.31</td>\n",
       "      <td>Wyoming</td>\n",
       "      <td>Albany</td>\n",
       "    </tr>\n",
       "    <tr>\n",
       "      <th>12122</th>\n",
       "      <td>22425-219024</td>\n",
       "      <td>Laramie</td>\n",
       "      <td>-105.56</td>\n",
       "      <td>41.31</td>\n",
       "      <td>Wyoming</td>\n",
       "      <td>Albany</td>\n",
       "    </tr>\n",
       "    <tr>\n",
       "      <th>12123</th>\n",
       "      <td>10849-103163</td>\n",
       "      <td>Rock Springs</td>\n",
       "      <td>-109.25</td>\n",
       "      <td>41.58</td>\n",
       "      <td>Wyoming</td>\n",
       "      <td>Sweetwater</td>\n",
       "    </tr>\n",
       "  </tbody>\n",
       "</table>\n",
       "<p>12124 rows × 6 columns</p>\n",
       "</div>"
      ],
      "text/plain": [
       "       Store Number          City  Longitude  Latitude    State      County\n",
       "0       3513-125945     Anchorage    -149.78     61.21   Alaska   Anchorage\n",
       "1       74352-84449     Anchorage    -149.84     61.14   Alaska   Anchorage\n",
       "2      12449-152385     Anchorage    -149.85     61.11   Alaska   Anchorage\n",
       "3      24936-233524     Anchorage    -149.89     61.13   Alaska   Anchorage\n",
       "4        8973-85630     Anchorage    -149.86     61.14   Alaska   Anchorage\n",
       "...             ...           ...        ...       ...      ...         ...\n",
       "12119  22353-220004        Lander    -108.75     42.84  Wyoming     Fremont\n",
       "12120   74385-87621       Laramie    -105.59     41.32  Wyoming      Albany\n",
       "12121   73320-24375       Laramie    -105.56     41.31  Wyoming      Albany\n",
       "12122  22425-219024       Laramie    -105.56     41.31  Wyoming      Albany\n",
       "12123  10849-103163  Rock Springs    -109.25     41.58  Wyoming  Sweetwater\n",
       "\n",
       "[12124 rows x 6 columns]"
      ]
     },
<<<<<<< HEAD
     "execution_count": 5,
=======
     "execution_count": 39,
>>>>>>> 24a43165501219fe02abe65472a7adf47beba2a3
     "metadata": {},
     "output_type": "execute_result"
    }
   ],
   "source": [
    "mapping = pd.merge(starbucks, cities, left_on=[\"City\", \"State\"], right_on=[\"city\", \"state_id\"])\n",
    "mapping = mapping.drop(columns=[\"state_id\", \"city\", \"State\"])\n",
    "mapping = mapping.rename(columns={\"state_name\":\"State\", \"county_name\":\"County\"})\n",
    "mapping"
   ]
  },
  {
<<<<<<< HEAD
   "cell_type": "code",
   "execution_count": 6,
   "id": "695c1885",
=======
   "cell_type": "markdown",
   "id": "8abc00b3",
   "metadata": {},
   "source": [
    "***"
   ]
  },
  {
   "cell_type": "markdown",
   "id": "2d1b4c5c",
   "metadata": {},
   "source": [
    "\n",
    "\n",
    "## Data Analysis"
   ]
  },
  {
   "cell_type": "code",
   "execution_count": 40,
   "id": "32a707c2",
>>>>>>> 24a43165501219fe02abe65472a7adf47beba2a3
   "metadata": {},
   "outputs": [
    {
     "data": {
      "text/html": [
       "<div>\n",
       "<style scoped>\n",
       "    .dataframe tbody tr th:only-of-type {\n",
       "        vertical-align: middle;\n",
       "    }\n",
       "\n",
       "    .dataframe tbody tr th {\n",
       "        vertical-align: top;\n",
       "    }\n",
       "\n",
       "    .dataframe thead th {\n",
       "        text-align: right;\n",
       "    }\n",
       "</style>\n",
       "<table border=\"1\" class=\"dataframe\">\n",
       "  <thead>\n",
       "    <tr style=\"text-align: right;\">\n",
       "      <th></th>\n",
       "      <th>County</th>\n",
       "      <th>State</th>\n",
       "      <th>Count</th>\n",
       "    </tr>\n",
       "  </thead>\n",
       "  <tbody>\n",
       "    <tr>\n",
       "      <th>0</th>\n",
       "      <td>Ada</td>\n",
       "      <td>Idaho</td>\n",
       "      <td>32</td>\n",
       "    </tr>\n",
       "    <tr>\n",
       "      <th>1</th>\n",
       "      <td>Adair</td>\n",
       "      <td>Missouri</td>\n",
       "      <td>1</td>\n",
       "    </tr>\n",
       "    <tr>\n",
       "      <th>2</th>\n",
       "      <td>Adams</td>\n",
       "      <td>Colorado</td>\n",
       "      <td>62</td>\n",
       "    </tr>\n",
       "    <tr>\n",
       "      <th>3</th>\n",
       "      <td>Adams</td>\n",
       "      <td>Illinois</td>\n",
       "      <td>2</td>\n",
       "    </tr>\n",
       "    <tr>\n",
       "      <th>4</th>\n",
       "      <td>Adams</td>\n",
       "      <td>Pennsylvania</td>\n",
       "      <td>1</td>\n",
       "    </tr>\n",
       "    <tr>\n",
       "      <th>...</th>\n",
       "      <td>...</td>\n",
       "      <td>...</td>\n",
       "      <td>...</td>\n",
       "    </tr>\n",
       "    <tr>\n",
       "      <th>1026</th>\n",
       "      <td>York</td>\n",
       "      <td>Pennsylvania</td>\n",
       "      <td>10</td>\n",
       "    </tr>\n",
       "    <tr>\n",
       "      <th>1027</th>\n",
       "      <td>York</td>\n",
       "      <td>South Carolina</td>\n",
       "      <td>8</td>\n",
       "    </tr>\n",
       "    <tr>\n",
       "      <th>1028</th>\n",
       "      <td>York</td>\n",
       "      <td>Virginia</td>\n",
       "      <td>2</td>\n",
       "    </tr>\n",
       "    <tr>\n",
       "      <th>1029</th>\n",
       "      <td>Yuba</td>\n",
       "      <td>California</td>\n",
       "      <td>1</td>\n",
       "    </tr>\n",
       "    <tr>\n",
       "      <th>1030</th>\n",
       "      <td>Yuma</td>\n",
       "      <td>Arizona</td>\n",
       "      <td>8</td>\n",
       "    </tr>\n",
       "  </tbody>\n",
       "</table>\n",
       "<p>1031 rows × 3 columns</p>\n",
       "</div>"
      ],
      "text/plain": [
       "     County           State  Count\n",
       "0       Ada           Idaho     32\n",
       "1     Adair        Missouri      1\n",
       "2     Adams        Colorado     62\n",
       "3     Adams        Illinois      2\n",
       "4     Adams    Pennsylvania      1\n",
       "...     ...             ...    ...\n",
       "1026   York    Pennsylvania     10\n",
       "1027   York  South Carolina      8\n",
       "1028   York        Virginia      2\n",
       "1029   Yuba      California      1\n",
       "1030   Yuma         Arizona      8\n",
       "\n",
       "[1031 rows x 3 columns]"
      ]
     },
<<<<<<< HEAD
     "execution_count": 6,
=======
     "execution_count": 40,
>>>>>>> 24a43165501219fe02abe65472a7adf47beba2a3
     "metadata": {},
     "output_type": "execute_result"
    }
   ],
   "source": [
    "storecount = mapping.groupby(['County', 'State'])['Store Number'].count().to_frame().reset_index()\n",
    "storecount = storecount.rename(columns={\"Store Number\":\"Count\"})\n",
    "storecount"
   ]
  },
  {
   "cell_type": "code",
<<<<<<< HEAD
   "execution_count": 7,
   "id": "bf696fe5",
=======
   "execution_count": 41,
   "id": "5bc4ea45",
>>>>>>> 24a43165501219fe02abe65472a7adf47beba2a3
   "metadata": {},
   "outputs": [
    {
     "data": {
      "text/html": [
       "<div>\n",
       "<style scoped>\n",
       "    .dataframe tbody tr th:only-of-type {\n",
       "        vertical-align: middle;\n",
       "    }\n",
       "\n",
       "    .dataframe tbody tr th {\n",
       "        vertical-align: top;\n",
       "    }\n",
       "\n",
       "    .dataframe thead th {\n",
       "        text-align: right;\n",
       "    }\n",
       "</style>\n",
       "<table border=\"1\" class=\"dataframe\">\n",
       "  <thead>\n",
       "    <tr style=\"text-align: right;\">\n",
       "      <th></th>\n",
       "      <th>County</th>\n",
       "      <th>State</th>\n",
       "      <th>Count</th>\n",
       "      <th>TotalPop</th>\n",
       "      <th>Men</th>\n",
       "      <th>Women</th>\n",
       "      <th>Hispanic</th>\n",
       "      <th>White</th>\n",
       "      <th>Black</th>\n",
       "      <th>Native</th>\n",
       "      <th>...</th>\n",
       "      <th>Walk</th>\n",
       "      <th>OtherTransp</th>\n",
       "      <th>WorkAtHome</th>\n",
       "      <th>MeanCommute</th>\n",
       "      <th>Employed</th>\n",
       "      <th>PrivateWork</th>\n",
       "      <th>PublicWork</th>\n",
       "      <th>SelfEmployed</th>\n",
       "      <th>FamilyWork</th>\n",
       "      <th>Unemployment</th>\n",
       "    </tr>\n",
       "  </thead>\n",
       "  <tbody>\n",
       "    <tr>\n",
       "      <th>0</th>\n",
       "      <td>Autauga</td>\n",
       "      <td>Alabama</td>\n",
       "      <td>2.0</td>\n",
       "      <td>55036</td>\n",
       "      <td>48.875282</td>\n",
       "      <td>51.124718</td>\n",
       "      <td>2.7</td>\n",
       "      <td>75.4</td>\n",
       "      <td>18.9</td>\n",
       "      <td>0.3</td>\n",
       "      <td>...</td>\n",
<<<<<<< HEAD
       "      <td>0.6</td>\n",
=======
>>>>>>> 24a43165501219fe02abe65472a7adf47beba2a3
       "      <td>1.3</td>\n",
       "      <td>2.5</td>\n",
       "      <td>25.8</td>\n",
       "      <td>43.811323</td>\n",
       "      <td>74.1</td>\n",
       "      <td>20.2</td>\n",
       "      <td>5.6</td>\n",
       "      <td>0.1</td>\n",
       "      <td>5.2</td>\n",
<<<<<<< HEAD
=======
       "      <td>22.8</td>\n",
>>>>>>> 24a43165501219fe02abe65472a7adf47beba2a3
       "    </tr>\n",
       "    <tr>\n",
       "      <th>1</th>\n",
       "      <td>Baldwin</td>\n",
       "      <td>Alabama</td>\n",
       "      <td>5.0</td>\n",
       "      <td>203360</td>\n",
       "      <td>48.941286</td>\n",
       "      <td>51.058714</td>\n",
       "      <td>4.4</td>\n",
       "      <td>83.1</td>\n",
       "      <td>9.5</td>\n",
       "      <td>0.8</td>\n",
       "      <td>...</td>\n",
<<<<<<< HEAD
       "      <td>0.8</td>\n",
=======
>>>>>>> 24a43165501219fe02abe65472a7adf47beba2a3
       "      <td>1.1</td>\n",
       "      <td>5.6</td>\n",
       "      <td>27.0</td>\n",
       "      <td>44.023899</td>\n",
       "      <td>80.7</td>\n",
       "      <td>12.9</td>\n",
       "      <td>6.3</td>\n",
       "      <td>0.1</td>\n",
       "      <td>5.5</td>\n",
<<<<<<< HEAD
=======
       "      <td>15.4</td>\n",
>>>>>>> 24a43165501219fe02abe65472a7adf47beba2a3
       "    </tr>\n",
       "    <tr>\n",
       "      <th>2</th>\n",
       "      <td>Barbour</td>\n",
       "      <td>Alabama</td>\n",
       "      <td>0.0</td>\n",
       "      <td>26201</td>\n",
       "      <td>53.341476</td>\n",
       "      <td>46.658524</td>\n",
       "      <td>4.2</td>\n",
       "      <td>45.7</td>\n",
       "      <td>47.8</td>\n",
       "      <td>0.2</td>\n",
       "      <td>...</td>\n",
<<<<<<< HEAD
       "      <td>2.2</td>\n",
=======
>>>>>>> 24a43165501219fe02abe65472a7adf47beba2a3
       "      <td>1.7</td>\n",
       "      <td>1.3</td>\n",
       "      <td>23.4</td>\n",
       "      <td>33.884203</td>\n",
       "      <td>74.1</td>\n",
       "      <td>19.1</td>\n",
       "      <td>6.5</td>\n",
       "      <td>0.3</td>\n",
       "      <td>12.4</td>\n",
<<<<<<< HEAD
=======
       "      <td>52.8</td>\n",
>>>>>>> 24a43165501219fe02abe65472a7adf47beba2a3
       "    </tr>\n",
       "    <tr>\n",
       "      <th>3</th>\n",
       "      <td>Bibb</td>\n",
       "      <td>Alabama</td>\n",
       "      <td>0.0</td>\n",
       "      <td>22580</td>\n",
       "      <td>54.255979</td>\n",
       "      <td>45.744021</td>\n",
       "      <td>2.4</td>\n",
       "      <td>74.6</td>\n",
       "      <td>22.0</td>\n",
       "      <td>0.4</td>\n",
       "      <td>...</td>\n",
<<<<<<< HEAD
       "      <td>0.3</td>\n",
=======
>>>>>>> 24a43165501219fe02abe65472a7adf47beba2a3
       "      <td>1.7</td>\n",
       "      <td>1.5</td>\n",
       "      <td>30.0</td>\n",
       "      <td>36.186891</td>\n",
       "      <td>76.0</td>\n",
       "      <td>17.4</td>\n",
       "      <td>6.3</td>\n",
       "      <td>0.3</td>\n",
       "      <td>8.2</td>\n",
<<<<<<< HEAD
=======
       "      <td>24.8</td>\n",
>>>>>>> 24a43165501219fe02abe65472a7adf47beba2a3
       "    </tr>\n",
       "    <tr>\n",
       "      <th>4</th>\n",
       "      <td>Blount</td>\n",
       "      <td>Alabama</td>\n",
       "      <td>0.0</td>\n",
       "      <td>57667</td>\n",
       "      <td>49.404339</td>\n",
       "      <td>50.595661</td>\n",
       "      <td>9.0</td>\n",
       "      <td>87.4</td>\n",
       "      <td>1.5</td>\n",
       "      <td>0.3</td>\n",
       "      <td>...</td>\n",
       "      <td>0.4</td>\n",
<<<<<<< HEAD
       "      <td>0.4</td>\n",
=======
>>>>>>> 24a43165501219fe02abe65472a7adf47beba2a3
       "      <td>2.1</td>\n",
       "      <td>35.0</td>\n",
       "      <td>37.074930</td>\n",
       "      <td>83.9</td>\n",
       "      <td>11.9</td>\n",
       "      <td>4.0</td>\n",
       "      <td>0.1</td>\n",
       "      <td>4.9</td>\n",
<<<<<<< HEAD
=======
       "      <td>10.9</td>\n",
>>>>>>> 24a43165501219fe02abe65472a7adf47beba2a3
       "    </tr>\n",
       "    <tr>\n",
       "      <th>...</th>\n",
       "      <td>...</td>\n",
       "      <td>...</td>\n",
       "      <td>...</td>\n",
       "      <td>...</td>\n",
       "      <td>...</td>\n",
       "      <td>...</td>\n",
       "      <td>...</td>\n",
       "      <td>...</td>\n",
       "      <td>...</td>\n",
       "      <td>...</td>\n",
       "      <td>...</td>\n",
       "      <td>...</td>\n",
       "      <td>...</td>\n",
       "      <td>...</td>\n",
       "      <td>...</td>\n",
       "      <td>...</td>\n",
       "      <td>...</td>\n",
       "      <td>...</td>\n",
       "      <td>...</td>\n",
       "      <td>...</td>\n",
       "      <td>...</td>\n",
       "    </tr>\n",
       "    <tr>\n",
       "      <th>3137</th>\n",
       "      <td>Sweetwater</td>\n",
       "      <td>Wyoming</td>\n",
       "      <td>1.0</td>\n",
       "      <td>44527</td>\n",
       "      <td>51.611382</td>\n",
       "      <td>48.388618</td>\n",
       "      <td>16.0</td>\n",
       "      <td>79.6</td>\n",
       "      <td>0.8</td>\n",
       "      <td>0.6</td>\n",
       "      <td>...</td>\n",
<<<<<<< HEAD
       "      <td>2.8</td>\n",
=======
>>>>>>> 24a43165501219fe02abe65472a7adf47beba2a3
       "      <td>1.3</td>\n",
       "      <td>1.5</td>\n",
       "      <td>20.5</td>\n",
       "      <td>51.067891</td>\n",
       "      <td>78.4</td>\n",
       "      <td>17.8</td>\n",
       "      <td>3.8</td>\n",
       "      <td>0.0</td>\n",
       "      <td>5.2</td>\n",
<<<<<<< HEAD
=======
       "      <td>18.5</td>\n",
>>>>>>> 24a43165501219fe02abe65472a7adf47beba2a3
       "    </tr>\n",
       "    <tr>\n",
       "      <th>3138</th>\n",
       "      <td>Teton</td>\n",
       "      <td>Wyoming</td>\n",
       "      <td>2.0</td>\n",
       "      <td>22923</td>\n",
       "      <td>53.086420</td>\n",
       "      <td>46.913580</td>\n",
       "      <td>15.0</td>\n",
       "      <td>81.5</td>\n",
       "      <td>0.5</td>\n",
       "      <td>0.3</td>\n",
       "      <td>...</td>\n",
<<<<<<< HEAD
       "      <td>11.7</td>\n",
=======
>>>>>>> 24a43165501219fe02abe65472a7adf47beba2a3
       "      <td>3.8</td>\n",
       "      <td>5.7</td>\n",
       "      <td>14.3</td>\n",
       "      <td>63.220346</td>\n",
       "      <td>82.1</td>\n",
       "      <td>11.4</td>\n",
       "      <td>6.5</td>\n",
       "      <td>0.0</td>\n",
       "      <td>1.3</td>\n",
<<<<<<< HEAD
=======
       "      <td>18.0</td>\n",
>>>>>>> 24a43165501219fe02abe65472a7adf47beba2a3
       "    </tr>\n",
       "    <tr>\n",
       "      <th>3139</th>\n",
       "      <td>Uinta</td>\n",
       "      <td>Wyoming</td>\n",
       "      <td>0.0</td>\n",
       "      <td>20758</td>\n",
       "      <td>51.030928</td>\n",
       "      <td>48.969072</td>\n",
       "      <td>9.1</td>\n",
       "      <td>87.7</td>\n",
       "      <td>0.1</td>\n",
       "      <td>0.9</td>\n",
       "      <td>...</td>\n",
       "      <td>1.1</td>\n",
       "      <td>1.3</td>\n",
       "      <td>2.0</td>\n",
       "      <td>19.9</td>\n",
       "      <td>45.900376</td>\n",
       "      <td>71.5</td>\n",
       "      <td>21.5</td>\n",
       "      <td>6.6</td>\n",
       "      <td>0.4</td>\n",
       "      <td>6.4</td>\n",
       "    </tr>\n",
       "    <tr>\n",
       "      <th>3140</th>\n",
       "      <td>Washakie</td>\n",
       "      <td>Wyoming</td>\n",
       "      <td>0.0</td>\n",
       "      <td>8253</td>\n",
       "      <td>49.897007</td>\n",
       "      <td>50.102993</td>\n",
       "      <td>14.2</td>\n",
       "      <td>82.2</td>\n",
       "      <td>0.3</td>\n",
       "      <td>0.4</td>\n",
       "      <td>...</td>\n",
       "      <td>6.9</td>\n",
       "      <td>1.3</td>\n",
       "      <td>4.4</td>\n",
       "      <td>14.3</td>\n",
       "      <td>46.443717</td>\n",
       "      <td>69.8</td>\n",
       "      <td>22.0</td>\n",
       "      <td>8.1</td>\n",
       "      <td>0.2</td>\n",
       "      <td>6.1</td>\n",
       "    </tr>\n",
       "    <tr>\n",
       "      <th>3141</th>\n",
       "      <td>Weston</td>\n",
       "      <td>Wyoming</td>\n",
       "      <td>0.0</td>\n",
       "      <td>7117</td>\n",
       "      <td>52.775046</td>\n",
       "      <td>47.224954</td>\n",
       "      <td>1.4</td>\n",
       "      <td>91.6</td>\n",
       "      <td>0.5</td>\n",
       "      <td>0.1</td>\n",
       "      <td>...</td>\n",
       "      <td>3.0</td>\n",
       "      <td>1.6</td>\n",
       "      <td>6.9</td>\n",
       "      <td>25.7</td>\n",
       "      <td>47.871294</td>\n",
       "      <td>68.2</td>\n",
       "      <td>21.9</td>\n",
       "      <td>8.8</td>\n",
       "      <td>1.1</td>\n",
       "      <td>2.2</td>\n",
       "    </tr>\n",
       "  </tbody>\n",
       "</table>\n",
       "<p>3142 rows × 36 columns</p>\n",
       "</div>"
      ],
      "text/plain": [
       "          County    State  Count  TotalPop        Men      Women  Hispanic  \\\n",
       "0        Autauga  Alabama    2.0     55036  48.875282  51.124718       2.7   \n",
       "1        Baldwin  Alabama    5.0    203360  48.941286  51.058714       4.4   \n",
       "2        Barbour  Alabama    0.0     26201  53.341476  46.658524       4.2   \n",
       "3           Bibb  Alabama    0.0     22580  54.255979  45.744021       2.4   \n",
       "4         Blount  Alabama    0.0     57667  49.404339  50.595661       9.0   \n",
       "...          ...      ...    ...       ...        ...        ...       ...   \n",
       "3137  Sweetwater  Wyoming    1.0     44527  51.611382  48.388618      16.0   \n",
       "3138       Teton  Wyoming    2.0     22923  53.086420  46.913580      15.0   \n",
       "3139       Uinta  Wyoming    0.0     20758  51.030928  48.969072       9.1   \n",
       "3140    Washakie  Wyoming    0.0      8253  49.897007  50.102993      14.2   \n",
       "3141      Weston  Wyoming    0.0      7117  52.775046  47.224954       1.4   \n",
       "\n",
<<<<<<< HEAD
       "      White  Black  Native  ...  Walk  OtherTransp  WorkAtHome  MeanCommute  \\\n",
       "0      75.4   18.9     0.3  ...   0.6          1.3         2.5         25.8   \n",
       "1      83.1    9.5     0.8  ...   0.8          1.1         5.6         27.0   \n",
       "2      45.7   47.8     0.2  ...   2.2          1.7         1.3         23.4   \n",
       "3      74.6   22.0     0.4  ...   0.3          1.7         1.5         30.0   \n",
       "4      87.4    1.5     0.3  ...   0.4          0.4         2.1         35.0   \n",
       "...     ...    ...     ...  ...   ...          ...         ...          ...   \n",
       "3137   79.6    0.8     0.6  ...   2.8          1.3         1.5         20.5   \n",
       "3138   81.5    0.5     0.3  ...  11.7          3.8         5.7         14.3   \n",
       "3139   87.7    0.1     0.9  ...   1.1          1.3         2.0         19.9   \n",
       "3140   82.2    0.3     0.4  ...   6.9          1.3         4.4         14.3   \n",
       "3141   91.6    0.5     0.1  ...   3.0          1.6         6.9         25.7   \n",
=======
       "      White  Black  Native  ...  OtherTransp  WorkAtHome  MeanCommute  \\\n",
       "0      75.4   18.9     0.3  ...          1.3         2.5         25.8   \n",
       "1      83.1    9.5     0.8  ...          1.1         5.6         27.0   \n",
       "2      45.7   47.8     0.2  ...          1.7         1.3         23.4   \n",
       "3      74.6   22.0     0.4  ...          1.7         1.5         30.0   \n",
       "4      87.4    1.5     0.3  ...          0.4         2.1         35.0   \n",
       "...     ...    ...     ...  ...          ...         ...          ...   \n",
       "3137   79.6    0.8     0.6  ...          1.3         1.5         20.5   \n",
       "3138   81.5    0.5     0.3  ...          3.8         5.7         14.3   \n",
       "3139   87.7    0.1     0.9  ...          1.3         2.0         19.9   \n",
       "3140   82.2    0.3     0.4  ...          1.3         4.4         14.3   \n",
       "3141   91.6    0.5     0.1  ...          1.6         6.9         25.7   \n",
>>>>>>> 24a43165501219fe02abe65472a7adf47beba2a3
       "\n",
       "       Employed  PrivateWork  PublicWork  SelfEmployed  FamilyWork  \\\n",
       "0     43.811323         74.1        20.2           5.6         0.1   \n",
       "1     44.023899         80.7        12.9           6.3         0.1   \n",
       "2     33.884203         74.1        19.1           6.5         0.3   \n",
       "3     36.186891         76.0        17.4           6.3         0.3   \n",
       "4     37.074930         83.9        11.9           4.0         0.1   \n",
       "...         ...          ...         ...           ...         ...   \n",
       "3137  51.067891         78.4        17.8           3.8         0.0   \n",
       "3138  63.220346         82.1        11.4           6.5         0.0   \n",
       "3139  45.900376         71.5        21.5           6.6         0.4   \n",
       "3140  46.443717         69.8        22.0           8.1         0.2   \n",
       "3141  47.871294         68.2        21.9           8.8         1.1   \n",
       "\n",
<<<<<<< HEAD
       "      Unemployment  \n",
       "0              5.2  \n",
       "1              5.5  \n",
       "2             12.4  \n",
       "3              8.2  \n",
       "4              4.9  \n",
       "...            ...  \n",
       "3137           5.2  \n",
       "3138           1.3  \n",
       "3139           6.4  \n",
       "3140           6.1  \n",
       "3141           2.2  \n",
=======
       "      Unemployment  Non White  \n",
       "0              5.2       22.8  \n",
       "1              5.5       15.4  \n",
       "2             12.4       52.8  \n",
       "3              8.2       24.8  \n",
       "4              4.9       10.9  \n",
       "...            ...        ...  \n",
       "3137           5.2       18.5  \n",
       "3138           1.3       18.0  \n",
       "3139           6.4       10.2  \n",
       "3140           6.1       15.0  \n",
       "3141           2.2        6.3  \n",
>>>>>>> 24a43165501219fe02abe65472a7adf47beba2a3
       "\n",
       "[3142 rows x 36 columns]"
      ]
     },
<<<<<<< HEAD
     "execution_count": 7,
=======
     "execution_count": 41,
>>>>>>> 24a43165501219fe02abe65472a7adf47beba2a3
     "metadata": {},
     "output_type": "execute_result"
    }
   ],
   "source": [
    "df = storecount.merge(demographic, how='right', left_on=['County', 'State'], right_on=['County', 'State']).drop(columns=[\"Unnamed: 0\", \"CountyId\", \"VotingAgeCitizen\"])\n",
    "df['Count'] = df['Count'].fillna(0)\n",
    "df['Men'] = (df['Men']/df['TotalPop'])*100\n",
    "df['Women'] = (df['Women']/df['TotalPop'])*100\n",
    "df['Employed'] = (df['Employed']/df['TotalPop'])*100\n",
    "df"
   ]
  },
  {
   "cell_type": "markdown",
<<<<<<< HEAD
   "id": "6e82cba0",
=======
   "id": "49a4405e",
>>>>>>> 24a43165501219fe02abe65472a7adf47beba2a3
   "metadata": {},
   "source": [
    "### Correlation"
   ]
  },
  {
   "cell_type": "code",
<<<<<<< HEAD
   "execution_count": 8,
   "id": "c5956886",
=======
   "execution_count": 42,
   "id": "b7bfd28d",
>>>>>>> 24a43165501219fe02abe65472a7adf47beba2a3
   "metadata": {},
   "outputs": [
    {
     "data": {
      "text/html": [
       "<div>\n",
       "<style scoped>\n",
       "    .dataframe tbody tr th:only-of-type {\n",
       "        vertical-align: middle;\n",
       "    }\n",
       "\n",
       "    .dataframe tbody tr th {\n",
       "        vertical-align: top;\n",
       "    }\n",
       "\n",
       "    .dataframe thead th {\n",
       "        text-align: right;\n",
       "    }\n",
       "</style>\n",
       "<table border=\"1\" class=\"dataframe\">\n",
       "  <thead>\n",
       "    <tr style=\"text-align: right;\">\n",
       "      <th></th>\n",
       "      <th>Count</th>\n",
       "    </tr>\n",
       "  </thead>\n",
       "  <tbody>\n",
       "    <tr>\n",
       "      <th>TotalPop</th>\n",
       "      <td>0.896795</td>\n",
       "    </tr>\n",
       "    <tr>\n",
       "      <th>White</th>\n",
       "      <td>-0.202117</td>\n",
       "    </tr>\n",
       "    <tr>\n",
       "      <th>Asian</th>\n",
       "      <td>0.450766</td>\n",
       "    </tr>\n",
       "    <tr>\n",
       "      <th>Income</th>\n",
       "      <td>0.233709</td>\n",
       "    </tr>\n",
       "    <tr>\n",
       "      <th>IncomePerCap</th>\n",
       "      <td>0.256303</td>\n",
       "    </tr>\n",
       "    <tr>\n",
       "      <th>Professional</th>\n",
       "      <td>0.247451</td>\n",
       "    </tr>\n",
       "    <tr>\n",
       "      <th>Construction</th>\n",
       "      <td>-0.212778</td>\n",
       "    </tr>\n",
       "    <tr>\n",
       "      <th>Transit</th>\n",
       "      <td>0.327334</td>\n",
       "    </tr>\n",
       "  </tbody>\n",
       "</table>\n",
       "</div>"
      ],
      "text/plain": [
       "                 Count\n",
       "TotalPop      0.896795\n",
       "White        -0.202117\n",
       "Asian         0.450766\n",
       "Income        0.233709\n",
       "IncomePerCap  0.256303\n",
       "Professional  0.247451\n",
       "Construction -0.212778\n",
       "Transit       0.327334"
      ]
     },
<<<<<<< HEAD
     "execution_count": 8,
=======
     "execution_count": 42,
>>>>>>> 24a43165501219fe02abe65472a7adf47beba2a3
     "metadata": {},
     "output_type": "execute_result"
    }
   ],
   "source": [
    "var = ['Count', 'TotalPop', 'Men', 'Women', 'Hispanic',\n",
    "       'White', 'Black', 'Native', 'Asian', 'Pacific', 'Income', 'IncomeErr',\n",
    "       'IncomePerCap', 'IncomePerCapErr', 'Poverty', 'ChildPoverty',\n",
    "       'Professional', 'Service', 'Office', 'Construction', 'Production',\n",
    "       'Drive', 'Carpool', 'Transit', 'Walk', 'OtherTransp', 'WorkAtHome',\n",
    "       'MeanCommute', 'Employed', 'PrivateWork', 'PublicWork', 'SelfEmployed',\n",
    "       'FamilyWork', 'Unemployment']\n",
    "corr = df[var].corr().drop('Count')[['Count']]\n",
    "best_corr = corr[abs(corr[\"Count\"])>.19]\n",
    "best_corr"
   ]
  },
  {
   "cell_type": "markdown",
<<<<<<< HEAD
   "id": "8ed5f45b",
=======
   "id": "7044dc8e",
>>>>>>> 24a43165501219fe02abe65472a7adf47beba2a3
   "metadata": {},
   "source": [
    "### Preprocessing"
   ]
  },
  {
<<<<<<< HEAD
   "cell_type": "code",
   "execution_count": 9,
   "id": "302a298d",
=======
   "cell_type": "markdown",
   "id": "230a7cac",
   "metadata": {},
   "source": [
    "***"
   ]
  },
  {
   "cell_type": "code",
   "execution_count": 23,
   "id": "daf1be8e",
>>>>>>> 24a43165501219fe02abe65472a7adf47beba2a3
   "metadata": {},
   "outputs": [
    {
     "name": "stderr",
     "output_type": "stream",
     "text": [
      "C:\\Users\\naomi\\anaconda3\\lib\\site-packages\\pandas\\core\\indexing.py:1676: SettingWithCopyWarning: \n",
      "A value is trying to be set on a copy of a slice from a DataFrame.\n",
      "Try using .loc[row_indexer,col_indexer] = value instead\n",
      "\n",
      "See the caveats in the documentation: https://pandas.pydata.org/pandas-docs/stable/user_guide/indexing.html#returning-a-view-versus-a-copy\n",
      "  self._setitem_single_column(ilocs[0], value, pi)\n"
     ]
    }
   ],
   "source": [
    "feature_names = ['TotalPop', 'Hispanic', 'White', 'Black', 'Native', 'Asian', 'Pacific', 'IncomePerCap', 'Poverty',\\\n",
    "                 'Professional', 'Service', 'Office', 'Construction', 'Production', 'Drive', 'Carpool', 'Transit',\\\n",
    "                 'Walk', 'OtherTransp']\n",
    "features = df[var[1:]].fillna(0)\n",
    "features = features.apply(lambda x: stats.zscore(x))\n",
    "target = df[[\"Count\"]]\n",
    "x_train, x_test, y_train, y_test = train_test_split(features, target, test_size=0.2, random_state=0)"
   ]
  },
  {
   "cell_type": "code",
<<<<<<< HEAD
   "execution_count": null,
   "id": "90c5904d",
   "metadata": {},
   "outputs": [
    {
     "name": "stdout",
     "output_type": "stream",
     "text": [
      "fit_time                        0.013379\n",
      "score_time                      0.007930\n",
      "test_r2                         0.762336\n",
      "test_neg_mean_squared_error   -78.182999\n",
      "dtype: float64\n",
      "fit_time                         0.087059\n",
      "score_time                       0.007910\n",
      "test_r2                         -2.985972\n",
      "test_neg_mean_squared_error   -998.747508\n",
      "dtype: float64\n",
      "fit_time                          1.604663\n",
      "score_time                        0.023843\n",
      "test_r2                         -47.148862\n",
      "test_neg_mean_squared_error   -9892.625115\n",
      "dtype: float64\n"
=======
   "execution_count": 25,
   "id": "2ad2d9e6",
   "metadata": {},
   "outputs": [
    {
     "name": "stderr",
     "output_type": "stream",
     "text": [
      "ERROR:root:Internal Python error in the inspect module.\n",
      "Below is the traceback from this internal error.\n",
      "\n"
     ]
    },
    {
     "name": "stdout",
     "output_type": "stream",
     "text": [
      "Traceback (most recent call last):\n",
      "  File \"C:\\Users\\naomi\\anaconda3\\lib\\site-packages\\IPython\\core\\interactiveshell.py\", line 3437, in run_code\n",
      "    exec(code_obj, self.user_global_ns, self.user_ns)\n",
      "  File \"<ipython-input-25-1a8d2d64cb60>\", line 9, in <module>\n",
      "    poly_model.fit(x_train_temp, y_train_temp)\n",
      "  File \"C:\\Users\\naomi\\anaconda3\\lib\\site-packages\\sklearn\\pipeline.py\", line 346, in fit\n",
      "    self._final_estimator.fit(Xt, y, **fit_params_last_step)\n",
      "  File \"C:\\Users\\naomi\\anaconda3\\lib\\site-packages\\sklearn\\linear_model\\_base.py\", line 569, in fit\n",
      "    linalg.lstsq(X, y)\n",
      "  File \"C:\\Users\\naomi\\anaconda3\\lib\\site-packages\\scipy\\linalg\\basic.py\", line 1199, in lstsq\n",
      "    x, s, rank, info = lapack_func(a1, b1, lwork,\n",
      "KeyboardInterrupt\n",
      "\n",
      "During handling of the above exception, another exception occurred:\n",
      "\n",
      "Traceback (most recent call last):\n",
      "  File \"C:\\Users\\naomi\\anaconda3\\lib\\site-packages\\IPython\\core\\interactiveshell.py\", line 2061, in showtraceback\n",
      "    stb = value._render_traceback_()\n",
      "AttributeError: 'KeyboardInterrupt' object has no attribute '_render_traceback_'\n",
      "\n",
      "During handling of the above exception, another exception occurred:\n",
      "\n",
      "Traceback (most recent call last):\n",
      "  File \"C:\\Users\\naomi\\anaconda3\\lib\\site-packages\\IPython\\core\\ultratb.py\", line 1101, in get_records\n",
      "    return _fixed_getinnerframes(etb, number_of_lines_of_context, tb_offset)\n",
      "  File \"C:\\Users\\naomi\\anaconda3\\lib\\site-packages\\IPython\\core\\ultratb.py\", line 248, in wrapped\n",
      "    return f(*args, **kwargs)\n",
      "  File \"C:\\Users\\naomi\\anaconda3\\lib\\site-packages\\IPython\\core\\ultratb.py\", line 281, in _fixed_getinnerframes\n",
      "    records = fix_frame_records_filenames(inspect.getinnerframes(etb, context))\n",
      "  File \"C:\\Users\\naomi\\anaconda3\\lib\\inspect.py\", line 1515, in getinnerframes\n",
      "    frameinfo = (tb.tb_frame,) + getframeinfo(tb, context)\n",
      "  File \"C:\\Users\\naomi\\anaconda3\\lib\\inspect.py\", line 1473, in getframeinfo\n",
      "    filename = getsourcefile(frame) or getfile(frame)\n",
      "  File \"C:\\Users\\naomi\\anaconda3\\lib\\inspect.py\", line 708, in getsourcefile\n",
      "    if getattr(getmodule(object, filename), '__loader__', None) is not None:\n",
      "  File \"C:\\Users\\naomi\\anaconda3\\lib\\inspect.py\", line 754, in getmodule\n",
      "    os.path.realpath(f)] = module.__name__\n",
      "  File \"C:\\Users\\naomi\\anaconda3\\lib\\ntpath.py\", line 647, in realpath\n",
      "    path = _getfinalpathname(path)\n",
      "KeyboardInterrupt\n"
     ]
    },
    {
     "ename": "TypeError",
     "evalue": "object of type 'NoneType' has no len()",
     "output_type": "error",
     "traceback": [
      "\u001b[1;31m---------------------------------------------------------------------------\u001b[0m",
      "\u001b[1;31mKeyboardInterrupt\u001b[0m                         Traceback (most recent call last)",
      "    \u001b[1;31m[... skipping hidden 1 frame]\u001b[0m\n",
      "\u001b[1;32m<ipython-input-25-1a8d2d64cb60>\u001b[0m in \u001b[0;36m<module>\u001b[1;34m\u001b[0m\n\u001b[0;32m      8\u001b[0m         \u001b[0mpoly_model\u001b[0m \u001b[1;33m=\u001b[0m \u001b[0mmake_pipeline\u001b[0m\u001b[1;33m(\u001b[0m\u001b[0mPolynomialFeatures\u001b[0m\u001b[1;33m(\u001b[0m\u001b[0mi\u001b[0m\u001b[1;33m)\u001b[0m\u001b[1;33m,\u001b[0m \u001b[0mLinearRegression\u001b[0m\u001b[1;33m(\u001b[0m\u001b[1;33m)\u001b[0m\u001b[1;33m)\u001b[0m\u001b[1;33m\u001b[0m\u001b[1;33m\u001b[0m\u001b[0m\n\u001b[1;32m----> 9\u001b[1;33m         \u001b[0mpoly_model\u001b[0m\u001b[1;33m.\u001b[0m\u001b[0mfit\u001b[0m\u001b[1;33m(\u001b[0m\u001b[0mx_train_temp\u001b[0m\u001b[1;33m,\u001b[0m \u001b[0my_train_temp\u001b[0m\u001b[1;33m)\u001b[0m\u001b[1;33m\u001b[0m\u001b[1;33m\u001b[0m\u001b[0m\n\u001b[0m\u001b[0;32m     10\u001b[0m         \u001b[0mpredicts\u001b[0m \u001b[1;33m=\u001b[0m \u001b[0mpoly_model\u001b[0m\u001b[1;33m.\u001b[0m\u001b[0mpredict\u001b[0m\u001b[1;33m(\u001b[0m\u001b[0mx_test_temp\u001b[0m\u001b[1;33m)\u001b[0m\u001b[1;33m\u001b[0m\u001b[1;33m\u001b[0m\u001b[0m\n",
      "\u001b[1;32m~\\anaconda3\\lib\\site-packages\\sklearn\\pipeline.py\u001b[0m in \u001b[0;36mfit\u001b[1;34m(self, X, y, **fit_params)\u001b[0m\n\u001b[0;32m    345\u001b[0m                 \u001b[0mfit_params_last_step\u001b[0m \u001b[1;33m=\u001b[0m \u001b[0mfit_params_steps\u001b[0m\u001b[1;33m[\u001b[0m\u001b[0mself\u001b[0m\u001b[1;33m.\u001b[0m\u001b[0msteps\u001b[0m\u001b[1;33m[\u001b[0m\u001b[1;33m-\u001b[0m\u001b[1;36m1\u001b[0m\u001b[1;33m]\u001b[0m\u001b[1;33m[\u001b[0m\u001b[1;36m0\u001b[0m\u001b[1;33m]\u001b[0m\u001b[1;33m]\u001b[0m\u001b[1;33m\u001b[0m\u001b[1;33m\u001b[0m\u001b[0m\n\u001b[1;32m--> 346\u001b[1;33m                 \u001b[0mself\u001b[0m\u001b[1;33m.\u001b[0m\u001b[0m_final_estimator\u001b[0m\u001b[1;33m.\u001b[0m\u001b[0mfit\u001b[0m\u001b[1;33m(\u001b[0m\u001b[0mXt\u001b[0m\u001b[1;33m,\u001b[0m \u001b[0my\u001b[0m\u001b[1;33m,\u001b[0m \u001b[1;33m**\u001b[0m\u001b[0mfit_params_last_step\u001b[0m\u001b[1;33m)\u001b[0m\u001b[1;33m\u001b[0m\u001b[1;33m\u001b[0m\u001b[0m\n\u001b[0m\u001b[0;32m    347\u001b[0m \u001b[1;33m\u001b[0m\u001b[0m\n",
      "\u001b[1;32m~\\anaconda3\\lib\\site-packages\\sklearn\\linear_model\\_base.py\u001b[0m in \u001b[0;36mfit\u001b[1;34m(self, X, y, sample_weight)\u001b[0m\n\u001b[0;32m    568\u001b[0m             \u001b[0mself\u001b[0m\u001b[1;33m.\u001b[0m\u001b[0mcoef_\u001b[0m\u001b[1;33m,\u001b[0m \u001b[0mself\u001b[0m\u001b[1;33m.\u001b[0m\u001b[0m_residues\u001b[0m\u001b[1;33m,\u001b[0m \u001b[0mself\u001b[0m\u001b[1;33m.\u001b[0m\u001b[0mrank_\u001b[0m\u001b[1;33m,\u001b[0m \u001b[0mself\u001b[0m\u001b[1;33m.\u001b[0m\u001b[0msingular_\u001b[0m \u001b[1;33m=\u001b[0m\u001b[0;31m \u001b[0m\u001b[0;31m\\\u001b[0m\u001b[1;33m\u001b[0m\u001b[1;33m\u001b[0m\u001b[0m\n\u001b[1;32m--> 569\u001b[1;33m                 \u001b[0mlinalg\u001b[0m\u001b[1;33m.\u001b[0m\u001b[0mlstsq\u001b[0m\u001b[1;33m(\u001b[0m\u001b[0mX\u001b[0m\u001b[1;33m,\u001b[0m \u001b[0my\u001b[0m\u001b[1;33m)\u001b[0m\u001b[1;33m\u001b[0m\u001b[1;33m\u001b[0m\u001b[0m\n\u001b[0m\u001b[0;32m    570\u001b[0m             \u001b[0mself\u001b[0m\u001b[1;33m.\u001b[0m\u001b[0mcoef_\u001b[0m \u001b[1;33m=\u001b[0m \u001b[0mself\u001b[0m\u001b[1;33m.\u001b[0m\u001b[0mcoef_\u001b[0m\u001b[1;33m.\u001b[0m\u001b[0mT\u001b[0m\u001b[1;33m\u001b[0m\u001b[1;33m\u001b[0m\u001b[0m\n",
      "\u001b[1;32m~\\anaconda3\\lib\\site-packages\\scipy\\linalg\\basic.py\u001b[0m in \u001b[0;36mlstsq\u001b[1;34m(a, b, cond, overwrite_a, overwrite_b, check_finite, lapack_driver)\u001b[0m\n\u001b[0;32m   1198\u001b[0m                 \u001b[0mlwork\u001b[0m\u001b[1;33m,\u001b[0m \u001b[0miwork\u001b[0m \u001b[1;33m=\u001b[0m \u001b[0m_compute_lwork\u001b[0m\u001b[1;33m(\u001b[0m\u001b[0mlapack_lwork\u001b[0m\u001b[1;33m,\u001b[0m \u001b[0mm\u001b[0m\u001b[1;33m,\u001b[0m \u001b[0mn\u001b[0m\u001b[1;33m,\u001b[0m \u001b[0mnrhs\u001b[0m\u001b[1;33m,\u001b[0m \u001b[0mcond\u001b[0m\u001b[1;33m)\u001b[0m\u001b[1;33m\u001b[0m\u001b[1;33m\u001b[0m\u001b[0m\n\u001b[1;32m-> 1199\u001b[1;33m                 x, s, rank, info = lapack_func(a1, b1, lwork,\n\u001b[0m\u001b[0;32m   1200\u001b[0m                                                iwork, cond, False, False)\n",
      "\u001b[1;31mKeyboardInterrupt\u001b[0m: ",
      "\nDuring handling of the above exception, another exception occurred:\n",
      "\u001b[1;31mAttributeError\u001b[0m                            Traceback (most recent call last)",
      "\u001b[1;32m~\\anaconda3\\lib\\site-packages\\IPython\\core\\interactiveshell.py\u001b[0m in \u001b[0;36mshowtraceback\u001b[1;34m(self, exc_tuple, filename, tb_offset, exception_only, running_compiled_code)\u001b[0m\n\u001b[0;32m   2060\u001b[0m                         \u001b[1;31m# in the engines. This should return a list of strings.\u001b[0m\u001b[1;33m\u001b[0m\u001b[1;33m\u001b[0m\u001b[1;33m\u001b[0m\u001b[0m\n\u001b[1;32m-> 2061\u001b[1;33m                         \u001b[0mstb\u001b[0m \u001b[1;33m=\u001b[0m \u001b[0mvalue\u001b[0m\u001b[1;33m.\u001b[0m\u001b[0m_render_traceback_\u001b[0m\u001b[1;33m(\u001b[0m\u001b[1;33m)\u001b[0m\u001b[1;33m\u001b[0m\u001b[1;33m\u001b[0m\u001b[0m\n\u001b[0m\u001b[0;32m   2062\u001b[0m                     \u001b[1;32mexcept\u001b[0m \u001b[0mException\u001b[0m\u001b[1;33m:\u001b[0m\u001b[1;33m\u001b[0m\u001b[1;33m\u001b[0m\u001b[0m\n",
      "\u001b[1;31mAttributeError\u001b[0m: 'KeyboardInterrupt' object has no attribute '_render_traceback_'",
      "\nDuring handling of the above exception, another exception occurred:\n",
      "\u001b[1;31mTypeError\u001b[0m                                 Traceback (most recent call last)",
      "    \u001b[1;31m[... skipping hidden 1 frame]\u001b[0m\n",
      "\u001b[1;32m~\\anaconda3\\lib\\site-packages\\IPython\\core\\interactiveshell.py\u001b[0m in \u001b[0;36mshowtraceback\u001b[1;34m(self, exc_tuple, filename, tb_offset, exception_only, running_compiled_code)\u001b[0m\n\u001b[0;32m   2061\u001b[0m                         \u001b[0mstb\u001b[0m \u001b[1;33m=\u001b[0m \u001b[0mvalue\u001b[0m\u001b[1;33m.\u001b[0m\u001b[0m_render_traceback_\u001b[0m\u001b[1;33m(\u001b[0m\u001b[1;33m)\u001b[0m\u001b[1;33m\u001b[0m\u001b[1;33m\u001b[0m\u001b[0m\n\u001b[0;32m   2062\u001b[0m                     \u001b[1;32mexcept\u001b[0m \u001b[0mException\u001b[0m\u001b[1;33m:\u001b[0m\u001b[1;33m\u001b[0m\u001b[1;33m\u001b[0m\u001b[0m\n\u001b[1;32m-> 2063\u001b[1;33m                         stb = self.InteractiveTB.structured_traceback(etype,\n\u001b[0m\u001b[0;32m   2064\u001b[0m                                             value, tb, tb_offset=tb_offset)\n\u001b[0;32m   2065\u001b[0m \u001b[1;33m\u001b[0m\u001b[0m\n",
      "\u001b[1;32m~\\anaconda3\\lib\\site-packages\\IPython\\core\\ultratb.py\u001b[0m in \u001b[0;36mstructured_traceback\u001b[1;34m(self, etype, value, tb, tb_offset, number_of_lines_of_context)\u001b[0m\n\u001b[0;32m   1365\u001b[0m         \u001b[1;32melse\u001b[0m\u001b[1;33m:\u001b[0m\u001b[1;33m\u001b[0m\u001b[1;33m\u001b[0m\u001b[0m\n\u001b[0;32m   1366\u001b[0m             \u001b[0mself\u001b[0m\u001b[1;33m.\u001b[0m\u001b[0mtb\u001b[0m \u001b[1;33m=\u001b[0m \u001b[0mtb\u001b[0m\u001b[1;33m\u001b[0m\u001b[1;33m\u001b[0m\u001b[0m\n\u001b[1;32m-> 1367\u001b[1;33m         return FormattedTB.structured_traceback(\n\u001b[0m\u001b[0;32m   1368\u001b[0m             self, etype, value, tb, tb_offset, number_of_lines_of_context)\n\u001b[0;32m   1369\u001b[0m \u001b[1;33m\u001b[0m\u001b[0m\n",
      "\u001b[1;32m~\\anaconda3\\lib\\site-packages\\IPython\\core\\ultratb.py\u001b[0m in \u001b[0;36mstructured_traceback\u001b[1;34m(self, etype, value, tb, tb_offset, number_of_lines_of_context)\u001b[0m\n\u001b[0;32m   1265\u001b[0m         \u001b[1;32mif\u001b[0m \u001b[0mmode\u001b[0m \u001b[1;32min\u001b[0m \u001b[0mself\u001b[0m\u001b[1;33m.\u001b[0m\u001b[0mverbose_modes\u001b[0m\u001b[1;33m:\u001b[0m\u001b[1;33m\u001b[0m\u001b[1;33m\u001b[0m\u001b[0m\n\u001b[0;32m   1266\u001b[0m             \u001b[1;31m# Verbose modes need a full traceback\u001b[0m\u001b[1;33m\u001b[0m\u001b[1;33m\u001b[0m\u001b[1;33m\u001b[0m\u001b[0m\n\u001b[1;32m-> 1267\u001b[1;33m             return VerboseTB.structured_traceback(\n\u001b[0m\u001b[0;32m   1268\u001b[0m                 \u001b[0mself\u001b[0m\u001b[1;33m,\u001b[0m \u001b[0metype\u001b[0m\u001b[1;33m,\u001b[0m \u001b[0mvalue\u001b[0m\u001b[1;33m,\u001b[0m \u001b[0mtb\u001b[0m\u001b[1;33m,\u001b[0m \u001b[0mtb_offset\u001b[0m\u001b[1;33m,\u001b[0m \u001b[0mnumber_of_lines_of_context\u001b[0m\u001b[1;33m\u001b[0m\u001b[1;33m\u001b[0m\u001b[0m\n\u001b[0;32m   1269\u001b[0m             )\n",
      "\u001b[1;32m~\\anaconda3\\lib\\site-packages\\IPython\\core\\ultratb.py\u001b[0m in \u001b[0;36mstructured_traceback\u001b[1;34m(self, etype, evalue, etb, tb_offset, number_of_lines_of_context)\u001b[0m\n\u001b[0;32m   1122\u001b[0m         \u001b[1;34m\"\"\"Return a nice text document describing the traceback.\"\"\"\u001b[0m\u001b[1;33m\u001b[0m\u001b[1;33m\u001b[0m\u001b[0m\n\u001b[0;32m   1123\u001b[0m \u001b[1;33m\u001b[0m\u001b[0m\n\u001b[1;32m-> 1124\u001b[1;33m         formatted_exception = self.format_exception_as_a_whole(etype, evalue, etb, number_of_lines_of_context,\n\u001b[0m\u001b[0;32m   1125\u001b[0m                                                                tb_offset)\n\u001b[0;32m   1126\u001b[0m \u001b[1;33m\u001b[0m\u001b[0m\n",
      "\u001b[1;32m~\\anaconda3\\lib\\site-packages\\IPython\\core\\ultratb.py\u001b[0m in \u001b[0;36mformat_exception_as_a_whole\u001b[1;34m(self, etype, evalue, etb, number_of_lines_of_context, tb_offset)\u001b[0m\n\u001b[0;32m   1080\u001b[0m \u001b[1;33m\u001b[0m\u001b[0m\n\u001b[0;32m   1081\u001b[0m \u001b[1;33m\u001b[0m\u001b[0m\n\u001b[1;32m-> 1082\u001b[1;33m         \u001b[0mlast_unique\u001b[0m\u001b[1;33m,\u001b[0m \u001b[0mrecursion_repeat\u001b[0m \u001b[1;33m=\u001b[0m \u001b[0mfind_recursion\u001b[0m\u001b[1;33m(\u001b[0m\u001b[0morig_etype\u001b[0m\u001b[1;33m,\u001b[0m \u001b[0mevalue\u001b[0m\u001b[1;33m,\u001b[0m \u001b[0mrecords\u001b[0m\u001b[1;33m)\u001b[0m\u001b[1;33m\u001b[0m\u001b[1;33m\u001b[0m\u001b[0m\n\u001b[0m\u001b[0;32m   1083\u001b[0m \u001b[1;33m\u001b[0m\u001b[0m\n\u001b[0;32m   1084\u001b[0m         \u001b[0mframes\u001b[0m \u001b[1;33m=\u001b[0m \u001b[0mself\u001b[0m\u001b[1;33m.\u001b[0m\u001b[0mformat_records\u001b[0m\u001b[1;33m(\u001b[0m\u001b[0mrecords\u001b[0m\u001b[1;33m,\u001b[0m \u001b[0mlast_unique\u001b[0m\u001b[1;33m,\u001b[0m \u001b[0mrecursion_repeat\u001b[0m\u001b[1;33m)\u001b[0m\u001b[1;33m\u001b[0m\u001b[1;33m\u001b[0m\u001b[0m\n",
      "\u001b[1;32m~\\anaconda3\\lib\\site-packages\\IPython\\core\\ultratb.py\u001b[0m in \u001b[0;36mfind_recursion\u001b[1;34m(etype, value, records)\u001b[0m\n\u001b[0;32m    380\u001b[0m     \u001b[1;31m# first frame (from in to out) that looks different.\u001b[0m\u001b[1;33m\u001b[0m\u001b[1;33m\u001b[0m\u001b[1;33m\u001b[0m\u001b[0m\n\u001b[0;32m    381\u001b[0m     \u001b[1;32mif\u001b[0m \u001b[1;32mnot\u001b[0m \u001b[0mis_recursion_error\u001b[0m\u001b[1;33m(\u001b[0m\u001b[0metype\u001b[0m\u001b[1;33m,\u001b[0m \u001b[0mvalue\u001b[0m\u001b[1;33m,\u001b[0m \u001b[0mrecords\u001b[0m\u001b[1;33m)\u001b[0m\u001b[1;33m:\u001b[0m\u001b[1;33m\u001b[0m\u001b[1;33m\u001b[0m\u001b[0m\n\u001b[1;32m--> 382\u001b[1;33m         \u001b[1;32mreturn\u001b[0m \u001b[0mlen\u001b[0m\u001b[1;33m(\u001b[0m\u001b[0mrecords\u001b[0m\u001b[1;33m)\u001b[0m\u001b[1;33m,\u001b[0m \u001b[1;36m0\u001b[0m\u001b[1;33m\u001b[0m\u001b[1;33m\u001b[0m\u001b[0m\n\u001b[0m\u001b[0;32m    383\u001b[0m \u001b[1;33m\u001b[0m\u001b[0m\n\u001b[0;32m    384\u001b[0m     \u001b[1;31m# Select filename, lineno, func_name to track frames with\u001b[0m\u001b[1;33m\u001b[0m\u001b[1;33m\u001b[0m\u001b[1;33m\u001b[0m\u001b[0m\n",
      "\u001b[1;31mTypeError\u001b[0m: object of type 'NoneType' has no len()"
>>>>>>> 24a43165501219fe02abe65472a7adf47beba2a3
     ]
    }
   ],
   "source": [
    "x_train_temp, x_test_temp, y_train_temp, y_test_temp = train_test_split(x_train, y_train, test_size=0.2, random_state=1)\n",
    "\n",
    "for i in range(1,5):\n",
    "    poly_model = make_pipeline(PolynomialFeatures(i), LinearRegression())\n",
    "    d = pd.DataFrame(cross_validate(poly_model, x_train_temp, y_train_temp, scoring=('r2', 'neg_mean_squared_error')))\n",
    "    print(d.mean())\n",
    "    "
   ]
  },
  {
   "cell_type": "markdown",
<<<<<<< HEAD
   "id": "69156b53",
=======
   "id": "6dd91447",
>>>>>>> 24a43165501219fe02abe65472a7adf47beba2a3
   "metadata": {},
   "source": [
    "### Linear Regression"
   ]
  },
  {
   "cell_type": "code",
   "execution_count": null,
<<<<<<< HEAD
   "id": "924f00b9",
=======
   "id": "c1ace0f9",
>>>>>>> 24a43165501219fe02abe65472a7adf47beba2a3
   "metadata": {},
   "outputs": [],
   "source": [
    "model = LinearRegression()\n",
    "model.fit(x_train, y_train)\n",
    "y_pred = model.predict(x_test)\n",
    "print(r2_score(y_test, y_pred))"
   ]
  },
  {
   "cell_type": "code",
   "execution_count": null,
   "id": "3f4d2bf2",
   "metadata": {},
   "outputs": [],
   "source": [
    "# from tensorflow.keras import models, layers\n",
    "\n",
    "# model = models.Sequential()\n",
    "# model.add(layers.Dense(128, activation='relu', input_shape=(len(feature_names),)))\n",
    "# model.add(layers.Dense(128, activation='relu'))\n",
    "# model.add(layers.Dense(128, activation='relu'))\n",
    "# model.add(layers.Dense(1, activation='linear'))\n",
    "# model.compile(optimizer='adam', loss='mean_squared_error', metrics=['accuracy'])\n",
    "# model.fit(x_train, y_train, epochs = 100, batch_size=32)\n",
    "# results = model.evaluate(x_test, y_test)\n",
    "# results"
   ]
  },
  {
   "cell_type": "markdown",
<<<<<<< HEAD
   "id": "e86130a5",
=======
   "id": "db6b2cbf",
>>>>>>> 24a43165501219fe02abe65472a7adf47beba2a3
   "metadata": {},
   "source": [
    "## Data Visualization"
   ]
  },
  {
   "cell_type": "code",
<<<<<<< HEAD
   "execution_count": null,
   "id": "fd75f147",
=======
   "execution_count": 43,
   "id": "592fadca",
>>>>>>> 24a43165501219fe02abe65472a7adf47beba2a3
   "metadata": {},
   "outputs": [
    {
     "data": {
      "text/plain": [
       "Text(0.5, 1.0, 'Number of Starbucks by Feature')"
      ]
     },
     "execution_count": 43,
     "metadata": {},
     "output_type": "execute_result"
    },
    {
     "data": {
      "image/png": "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\n",
      "text/plain": [
       "<Figure size 432x288 with 1 Axes>"
      ]
     },
     "metadata": {
      "needs_background": "light"
     },
     "output_type": "display_data"
    }
   ],
   "source": [
    "def normalize(df, columns):\n",
    "    result = df[columns]\n",
    "    result = (result - result.mean())/result.std()\n",
    "    return result\n",
    "\n",
    "data = df[[\"TotalPop\",\"White\",\"Non White\",\"IncomePerCap\",\"Professional\",\"Construction\",\"Transit\"]]\n",
    "columns = [\"TotalPop\",\"White\",\"Non White\",\"IncomePerCap\",\"Professional\",\"Construction\",\"Transit\"]\n",
    "data = normalize(data, columns)\n",
    "data = data.join(df['Count'])\n",
    "\n",
    "# Feature = TotalPop\n",
    "data.plot.scatter(x=\"TotalPop\", y=\"Count\",s=1)\n",
    "plt.ylabel(\"# of Starbucks\")\n",
    "plt.xlabel(\"Total Population\")\n",
    "plt.title(\"Number of Starbucks by Feature\")\n",
    "\n",
    "# Feature = White Population\n",
    "data.plot.scatter(x=\"White\", y=\"Count\",s=1)\n",
    "plt.ylabel(\"# of Starbucks\")\n",
    "plt.xlabel(\"Proportiona of Population that is White\")\n",
    "plt.title(\"Number of Starbucks by Feature\")\n",
    "\n",
    "# Feature = Non White Population\n",
    "data.plot.scatter(x=\"Non White\", y=\"Count\",s=1)\n",
    "plt.ylabel(\"# of Starbucks\")\n",
    "plt.xlabel(\"Proportion of Population that is Non White\")\n",
    "plt.title(\"Number of Starbucks by Feature\")\n",
    "\n",
    "# Feature = Income Per Capita\n",
    "data.plot.scatter(x=\"IncomePerCap\", y=\"Count\",s=1)\n",
    "plt.ylabel(\"# of Starbucks\")\n",
    "plt.xlabel(\"Income Per Capita\")\n",
    "plt.title(\"Number of Starbucks by Feature\")\n",
    "\n",
    "# Feature = Professional Population\n",
    "data.plot.scatter(x=\"TotalPop\", y=\"Count\",s=1)\n",
    "plt.ylabel(\"# of Starbucks\")\n",
    "plt.xlabel(\"Proportion of Population that are Professionals\")\n",
    "plt.title(\"Number of Starbucks by Feature\")\n",
    "\n",
    "# Feature = Construction Population\n",
    "data.plot.scatter(x=\"Construction\", y=\"Count\",s=1)\n",
    "plt.ylabel(\"# of Starbucks\")\n",
    "plt.xlabel(\"Proportion of Population that work in Construction\")\n",
    "plt.title(\"Number of Starbucks by Feature\")\n",
    "\n",
    "# Feature = White Population\n",
    "data.plot.scatter(x=\"Transit\", y=\"Count\",s=1)\n",
    "plt.ylabel(\"# of Starbucks\")\n",
    "plt.xlabel(\"Proportion of Population that work in Transit\")\n",
    "plt.title(\"Number of Starbucks by Feature\")"
   ]
  }
 ],
 "metadata": {
  "kernelspec": {
   "display_name": "Python 3",
   "language": "python",
   "name": "python3"
  },
  "language_info": {
   "codemirror_mode": {
    "name": "ipython",
    "version": 3
   },
   "file_extension": ".py",
   "mimetype": "text/x-python",
   "name": "python",
   "nbconvert_exporter": "python",
   "pygments_lexer": "ipython3",
   "version": "3.8.8"
  }
 },
 "nbformat": 4,
 "nbformat_minor": 5
}
